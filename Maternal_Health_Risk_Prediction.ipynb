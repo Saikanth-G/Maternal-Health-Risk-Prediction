{
  "nbformat": 4,
  "nbformat_minor": 0,
  "metadata": {
    "colab": {
      "provenance": []
    },
    "kernelspec": {
      "name": "python3",
      "display_name": "Python 3"
    },
    "language_info": {
      "name": "python"
    }
  },
  "cells": [
    {
      "cell_type": "code",
      "execution_count": null,
      "metadata": {
        "colab": {
          "base_uri": "https://localhost:8080/"
        },
        "id": "bHc-Eqj9P609",
        "outputId": "408f103c-fe9f-4bbf-b04a-d6564f335143"
      },
      "outputs": [
        {
          "output_type": "stream",
          "name": "stdout",
          "text": [
            "Collecting optuna\n",
            "  Downloading optuna-4.1.0-py3-none-any.whl.metadata (16 kB)\n",
            "Collecting alembic>=1.5.0 (from optuna)\n",
            "  Downloading alembic-1.14.0-py3-none-any.whl.metadata (7.4 kB)\n",
            "Collecting colorlog (from optuna)\n",
            "  Downloading colorlog-6.9.0-py3-none-any.whl.metadata (10 kB)\n",
            "Requirement already satisfied: numpy in /usr/local/lib/python3.10/dist-packages (from optuna) (1.26.4)\n",
            "Requirement already satisfied: packaging>=20.0 in /usr/local/lib/python3.10/dist-packages (from optuna) (24.2)\n",
            "Requirement already satisfied: sqlalchemy>=1.4.2 in /usr/local/lib/python3.10/dist-packages (from optuna) (2.0.36)\n",
            "Requirement already satisfied: tqdm in /usr/local/lib/python3.10/dist-packages (from optuna) (4.66.6)\n",
            "Requirement already satisfied: PyYAML in /usr/local/lib/python3.10/dist-packages (from optuna) (6.0.2)\n",
            "Collecting Mako (from alembic>=1.5.0->optuna)\n",
            "  Downloading Mako-1.3.6-py3-none-any.whl.metadata (2.9 kB)\n",
            "Requirement already satisfied: typing-extensions>=4 in /usr/local/lib/python3.10/dist-packages (from alembic>=1.5.0->optuna) (4.12.2)\n",
            "Requirement already satisfied: greenlet!=0.4.17 in /usr/local/lib/python3.10/dist-packages (from sqlalchemy>=1.4.2->optuna) (3.1.1)\n",
            "Requirement already satisfied: MarkupSafe>=0.9.2 in /usr/local/lib/python3.10/dist-packages (from Mako->alembic>=1.5.0->optuna) (3.0.2)\n",
            "Downloading optuna-4.1.0-py3-none-any.whl (364 kB)\n",
            "\u001b[2K   \u001b[90m━━━━━━━━━━━━━━━━━━━━━━━━━━━━━━━━━━━━━━━━\u001b[0m \u001b[32m364.4/364.4 kB\u001b[0m \u001b[31m25.5 MB/s\u001b[0m eta \u001b[36m0:00:00\u001b[0m\n",
            "\u001b[?25hDownloading alembic-1.14.0-py3-none-any.whl (233 kB)\n",
            "\u001b[2K   \u001b[90m━━━━━━━━━━━━━━━━━━━━━━━━━━━━━━━━━━━━━━━━\u001b[0m \u001b[32m233.5/233.5 kB\u001b[0m \u001b[31m21.0 MB/s\u001b[0m eta \u001b[36m0:00:00\u001b[0m\n",
            "\u001b[?25hDownloading colorlog-6.9.0-py3-none-any.whl (11 kB)\n",
            "Downloading Mako-1.3.6-py3-none-any.whl (78 kB)\n",
            "\u001b[2K   \u001b[90m━━━━━━━━━━━━━━━━━━━━━━━━━━━━━━━━━━━━━━━━\u001b[0m \u001b[32m78.6/78.6 kB\u001b[0m \u001b[31m6.6 MB/s\u001b[0m eta \u001b[36m0:00:00\u001b[0m\n",
            "\u001b[?25hInstalling collected packages: Mako, colorlog, alembic, optuna\n",
            "Successfully installed Mako-1.3.6 alembic-1.14.0 colorlog-6.9.0 optuna-4.1.0\n"
          ]
        }
      ],
      "source": [
        "!pip install optuna"
      ]
    },
    {
      "cell_type": "code",
      "source": [
        "# Suppress warnings\n",
        "import warnings\n",
        "warnings.simplefilter(action=\"ignore\")\n",
        "warnings.filterwarnings(\"ignore\")\n",
        "\n",
        "# Data Handling and Visualization\n",
        "import pandas as pd\n",
        "import numpy as np\n",
        "import seaborn as sns\n",
        "import matplotlib.pyplot as plt\n",
        "import time\n",
        "\n",
        "# Machine Learning Libraries\n",
        "from sklearn.model_selection import train_test_split, cross_val_score, StratifiedKFold\n",
        "from sklearn.preprocessing import MinMaxScaler\n",
        "from sklearn.feature_selection import RFECV\n",
        "from sklearn.decomposition import PCA\n",
        "from sklearn.ensemble import RandomForestClassifier\n",
        "from sklearn.metrics import classification_report, confusion_matrix, mean_squared_error, accuracy_score, precision_recall_fscore_support\n",
        "from statsmodels.stats.outliers_influence import variance_inflation_factor\n",
        "import optuna  # For efficient hyperparameter tuning\n"
      ],
      "metadata": {
        "id": "PiR7-5u6RHRk"
      },
      "execution_count": null,
      "outputs": []
    },
    {
      "cell_type": "code",
      "source": [
        "# Load dataset (upload your dataset if running on Colab)\n",
        "file_path = '/content/Maternal Health Risk Data Set.csv'  # Update path if necessary\n",
        "df = pd.read_csv(file_path)\n",
        "\n",
        "# Display the first few rows\n",
        "print(\"Dataset Preview:\")\n",
        "print(df.head())\n",
        "\n",
        "# Check for missing values\n",
        "print(\"\\nMissing Values:\\n\", df.isnull().sum())\n"
      ],
      "metadata": {
        "colab": {
          "base_uri": "https://localhost:8080/"
        },
        "id": "GgiidUhLRNWS",
        "outputId": "86cabf54-4cd8-4501-b23e-2072bff5d64a"
      },
      "execution_count": null,
      "outputs": [
        {
          "output_type": "stream",
          "name": "stdout",
          "text": [
            "Dataset Preview:\n",
            "   Age  SystolicBP  DiastolicBP    BS  BodyTemp  HeartRate  RiskLevel\n",
            "0   25         130           80  15.0      98.0         86  high risk\n",
            "1   35         140           90  13.0      98.0         70  high risk\n",
            "2   29          90           70   8.0     100.0         80  high risk\n",
            "3   30         140           85   7.0      98.0         70  high risk\n",
            "4   35         120           60   6.1      98.0         76   low risk\n",
            "\n",
            "Missing Values:\n",
            " Age            0\n",
            "SystolicBP     0\n",
            "DiastolicBP    0\n",
            "BS             0\n",
            "BodyTemp       0\n",
            "HeartRate      0\n",
            "RiskLevel      0\n",
            "dtype: int64\n"
          ]
        }
      ]
    },
    {
      "cell_type": "code",
      "source": [
        "# Drop duplicates if any\n",
        "df.drop_duplicates(inplace=True)\n",
        "\n",
        "# Display dataset summary\n",
        "print(\"\\nDataset Info:\")\n",
        "print(df.info())\n",
        "\n",
        "# Separating features and target variable\n",
        "X = df.drop(\"RiskLevel\", axis=1)\n",
        "y = df[\"RiskLevel\"]\n",
        "\n",
        "# Encode the target variable if it is categorical\n",
        "y = pd.factorize(y)[0]\n",
        "\n",
        "# Normalize features using Min-Max Scaling\n",
        "scaler = MinMaxScaler()\n",
        "X_scaled = scaler.fit_transform(X)\n",
        "\n",
        "# Check the normalized data\n",
        "print(\"\\nNormalized Data (First 5 Rows):\\n\", X_scaled[:5])\n"
      ],
      "metadata": {
        "colab": {
          "base_uri": "https://localhost:8080/"
        },
        "id": "Vk1sc80YRVF0",
        "outputId": "26cb302f-50ff-4df6-9278-4f3e5d729439"
      },
      "execution_count": null,
      "outputs": [
        {
          "output_type": "stream",
          "name": "stdout",
          "text": [
            "\n",
            "Dataset Info:\n",
            "<class 'pandas.core.frame.DataFrame'>\n",
            "Index: 452 entries, 0 to 705\n",
            "Data columns (total 7 columns):\n",
            " #   Column       Non-Null Count  Dtype  \n",
            "---  ------       --------------  -----  \n",
            " 0   Age          452 non-null    int64  \n",
            " 1   SystolicBP   452 non-null    int64  \n",
            " 2   DiastolicBP  452 non-null    int64  \n",
            " 3   BS           452 non-null    float64\n",
            " 4   BodyTemp     452 non-null    float64\n",
            " 5   HeartRate    452 non-null    int64  \n",
            " 6   RiskLevel    452 non-null    object \n",
            "dtypes: float64(2), int64(4), object(1)\n",
            "memory usage: 28.2+ KB\n",
            "None\n",
            "\n",
            "Normalized Data (First 5 Rows):\n",
            " [[0.25       0.66666667 0.60784314 0.69230769 0.         0.95180723]\n",
            " [0.41666667 0.77777778 0.80392157 0.53846154 0.         0.75903614]\n",
            " [0.31666667 0.22222222 0.41176471 0.15384615 0.4        0.87951807]\n",
            " [0.33333333 0.77777778 0.70588235 0.07692308 0.         0.75903614]\n",
            " [0.41666667 0.55555556 0.21568627 0.00769231 0.         0.8313253 ]]\n"
          ]
        }
      ]
    },
    {
      "cell_type": "code",
      "source": [
        "# Calculate Variance Inflation Factor (VIF)\n",
        "vif_data = pd.DataFrame()\n",
        "vif_data[\"Feature\"] = X.columns\n",
        "vif_data[\"VIF\"] = [variance_inflation_factor(X_scaled, i) for i in range(X_scaled.shape[1])]\n",
        "\n",
        "print(\"\\nVariance Inflation Factor (VIF):\")\n",
        "print(vif_data)\n"
      ],
      "metadata": {
        "colab": {
          "base_uri": "https://localhost:8080/"
        },
        "id": "eOqgWqGtRZPF",
        "outputId": "053b7f83-3b68-4d09-8366-f6448ad0f55b"
      },
      "execution_count": null,
      "outputs": [
        {
          "output_type": "stream",
          "name": "stdout",
          "text": [
            "\n",
            "Variance Inflation Factor (VIF):\n",
            "       Feature        VIF\n",
            "0          Age   3.835611\n",
            "1   SystolicBP  16.949557\n",
            "2  DiastolicBP  12.618178\n",
            "3           BS   2.090555\n",
            "4     BodyTemp   1.336234\n",
            "5    HeartRate   7.231233\n"
          ]
        }
      ]
    },
    {
      "cell_type": "code",
      "source": [
        "# Use RandomForestClassifier for feature selection\n",
        "rfc = RandomForestClassifier(random_state=42)\n",
        "rfe = RFECV(estimator=rfc, step=1, cv=5, scoring='accuracy')\n",
        "rfe.fit(X_scaled, y)\n",
        "\n",
        "# Selected features\n",
        "selected_features = X.columns[rfe.support_]\n",
        "print(\"\\nSelected Features:\", list(selected_features))\n",
        "\n",
        "# Transform the data to selected features\n",
        "X_reduced = rfe.transform(X_scaled)\n"
      ],
      "metadata": {
        "colab": {
          "base_uri": "https://localhost:8080/"
        },
        "id": "0fd47mHaRcvQ",
        "outputId": "bc41a826-582a-4022-f490-3b4a22a11d38"
      },
      "execution_count": null,
      "outputs": [
        {
          "output_type": "stream",
          "name": "stdout",
          "text": [
            "\n",
            "Selected Features: ['Age', 'SystolicBP', 'BS']\n"
          ]
        }
      ]
    },
    {
      "cell_type": "code",
      "source": [
        "# Apply PCA\n",
        "pca = PCA(n_components=2)\n",
        "X_pca = pca.fit_transform(X_scaled)\n",
        "\n",
        "# Visualize the variance ratio\n",
        "plt.figure(figsize=(8, 6))\n",
        "plt.bar(range(1, len(pca.explained_variance_ratio_) + 1), pca.explained_variance_ratio_, color='skyblue')\n",
        "plt.title(\"Explained Variance Ratio by PCA Components\")\n",
        "plt.xlabel(\"Principal Component\")\n",
        "plt.ylabel(\"Variance Ratio\")\n",
        "plt.show()\n"
      ],
      "metadata": {
        "colab": {
          "base_uri": "https://localhost:8080/",
          "height": 564
        },
        "id": "b5XnLmdvRjof",
        "outputId": "ac6a1a5c-924e-4a0f-9ea7-9e8939fdfba2"
      },
      "execution_count": null,
      "outputs": [
        {
          "output_type": "display_data",
          "data": {
            "text/plain": [
              "<Figure size 800x600 with 1 Axes>"
            ],
            "image/png": "[encoded data removed]"
          },
          "metadata": {}
        }
      ]
    },
    {
      "cell_type": "code",
      "source": [
        "# Define objective function for Optuna\n",
        "def objective(trial):\n",
        "    params = {\n",
        "        'n_estimators': trial.suggest_int('n_estimators', 50, 300),\n",
        "        'max_depth': trial.suggest_int('max_depth', 3, 20),\n",
        "        'min_samples_split': trial.suggest_int('min_samples_split', 2, 20),\n",
        "        'min_samples_leaf': trial.suggest_int('min_samples_leaf', 1, 10)\n",
        "    }\n",
        "    model = RandomForestClassifier(**params, random_state=42)\n",
        "    scores = cross_val_score(model, X_reduced, y, cv=5, scoring='accuracy')\n",
        "    return np.mean(scores)\n",
        "\n",
        "# Run Optuna\n",
        "study = optuna.create_study(direction=\"maximize\")\n",
        "study.optimize(objective, n_trials=20)\n",
        "\n",
        "# Best hyperparameters\n",
        "print(\"\\nBest Hyperparameters:\", study.best_params)\n"
      ],
      "metadata": {
        "colab": {
          "base_uri": "https://localhost:8080/"
        },
        "id": "mvjvsF0ZRpFs",
        "outputId": "92fd027a-2531-4e61-927d-4f7a26af60fa"
      },
      "execution_count": null,
      "outputs": [
        {
          "output_type": "stream",
          "name": "stderr",
          "text": [
            "[I 2024-11-17 00:42:51,351] A new study created in memory with name: no-name-7892054b-5087-4526-b97b-a2cdb9c59384\n",
            "[I 2024-11-17 00:42:52,715] Trial 0 finished with value: 0.6722832722832723 and parameters: {'n_estimators': 181, 'max_depth': 8, 'min_samples_split': 16, 'min_samples_leaf': 3}. Best is trial 0 with value: 0.6722832722832723.\n",
            "[I 2024-11-17 00:42:55,774] Trial 1 finished with value: 0.6568009768009768 and parameters: {'n_estimators': 273, 'max_depth': 9, 'min_samples_split': 7, 'min_samples_leaf': 3}. Best is trial 0 with value: 0.6722832722832723.\n",
            "[I 2024-11-17 00:42:56,578] Trial 2 finished with value: 0.6722832722832723 and parameters: {'n_estimators': 63, 'max_depth': 6, 'min_samples_split': 6, 'min_samples_leaf': 4}. Best is trial 0 with value: 0.6722832722832723.\n",
            "[I 2024-11-17 00:42:58,473] Trial 3 finished with value: 0.6766788766788767 and parameters: {'n_estimators': 257, 'max_depth': 7, 'min_samples_split': 7, 'min_samples_leaf': 7}. Best is trial 3 with value: 0.6766788766788767.\n",
            "[I 2024-11-17 00:43:00,184] Trial 4 finished with value: 0.6744322344322345 and parameters: {'n_estimators': 230, 'max_depth': 12, 'min_samples_split': 20, 'min_samples_leaf': 2}. Best is trial 3 with value: 0.6766788766788767.\n",
            "[I 2024-11-17 00:43:01,376] Trial 5 finished with value: 0.648058608058608 and parameters: {'n_estimators': 156, 'max_depth': 8, 'min_samples_split': 4, 'min_samples_leaf': 2}. Best is trial 3 with value: 0.6766788766788767.\n",
            "[I 2024-11-17 00:43:02,490] Trial 6 finished with value: 0.6678144078144079 and parameters: {'n_estimators': 151, 'max_depth': 11, 'min_samples_split': 11, 'min_samples_leaf': 10}. Best is trial 3 with value: 0.6766788766788767.\n",
            "[I 2024-11-17 00:43:03,839] Trial 7 finished with value: 0.6501831501831502 and parameters: {'n_estimators': 179, 'max_depth': 17, 'min_samples_split': 12, 'min_samples_leaf': 2}. Best is trial 3 with value: 0.6766788766788767.\n",
            "[I 2024-11-17 00:43:05,373] Trial 8 finished with value: 0.6767032967032968 and parameters: {'n_estimators': 194, 'max_depth': 11, 'min_samples_split': 20, 'min_samples_leaf': 6}. Best is trial 8 with value: 0.6767032967032968.\n",
            "[I 2024-11-17 00:43:06,484] Trial 9 finished with value: 0.6766788766788767 and parameters: {'n_estimators': 149, 'max_depth': 14, 'min_samples_split': 18, 'min_samples_leaf': 6}. Best is trial 8 with value: 0.6767032967032968.\n",
            "[I 2024-11-17 00:43:07,471] Trial 10 finished with value: 0.6722344322344324 and parameters: {'n_estimators': 83, 'max_depth': 19, 'min_samples_split': 14, 'min_samples_leaf': 8}. Best is trial 8 with value: 0.6767032967032968.\n",
            "[I 2024-11-17 00:43:10,588] Trial 11 finished with value: 0.6788766788766789 and parameters: {'n_estimators': 295, 'max_depth': 3, 'min_samples_split': 9, 'min_samples_leaf': 6}. Best is trial 11 with value: 0.6788766788766789.\n",
            "[I 2024-11-17 00:43:12,214] Trial 12 finished with value: 0.6788766788766789 and parameters: {'n_estimators': 221, 'max_depth': 3, 'min_samples_split': 11, 'min_samples_leaf': 5}. Best is trial 11 with value: 0.6788766788766789.\n",
            "[I 2024-11-17 00:43:14,411] Trial 13 finished with value: 0.6788766788766789 and parameters: {'n_estimators': 296, 'max_depth': 3, 'min_samples_split': 11, 'min_samples_leaf': 5}. Best is trial 11 with value: 0.6788766788766789.\n",
            "[I 2024-11-17 00:43:16,006] Trial 14 finished with value: 0.6766544566544568 and parameters: {'n_estimators': 221, 'max_depth': 3, 'min_samples_split': 9, 'min_samples_leaf': 8}. Best is trial 11 with value: 0.6788766788766789.\n",
            "[I 2024-11-17 00:43:18,143] Trial 15 finished with value: 0.6722344322344324 and parameters: {'n_estimators': 295, 'max_depth': 5, 'min_samples_split': 2, 'min_samples_leaf': 5}. Best is trial 11 with value: 0.6788766788766789.\n",
            "[I 2024-11-17 00:43:19,910] Trial 16 finished with value: 0.6788766788766789 and parameters: {'n_estimators': 242, 'max_depth': 4, 'min_samples_split': 14, 'min_samples_leaf': 8}. Best is trial 11 with value: 0.6788766788766789.\n",
            "[I 2024-11-17 00:43:21,246] Trial 17 finished with value: 0.6766788766788767 and parameters: {'n_estimators': 109, 'max_depth': 5, 'min_samples_split': 9, 'min_samples_leaf': 4}. Best is trial 11 with value: 0.6788766788766789.\n",
            "[I 2024-11-17 00:43:23,421] Trial 18 finished with value: 0.6744566544566546 and parameters: {'n_estimators': 207, 'max_depth': 3, 'min_samples_split': 9, 'min_samples_leaf': 10}. Best is trial 11 with value: 0.6788766788766789.\n",
            "[I 2024-11-17 00:43:25,401] Trial 19 finished with value: 0.6767032967032968 and parameters: {'n_estimators': 265, 'max_depth': 15, 'min_samples_split': 13, 'min_samples_leaf': 7}. Best is trial 11 with value: 0.6788766788766789.\n"
          ]
        },
        {
          "output_type": "stream",
          "name": "stdout",
          "text": [
            "\n",
            "Best Hyperparameters: {'n_estimators': 295, 'max_depth': 3, 'min_samples_split': 9, 'min_samples_leaf': 6}\n"
          ]
        }
      ]
    },
    {
      "cell_type": "markdown",
      "source": [
        "**Random Forest**"
      ],
      "metadata": {
        "id": "nTCqz41qkyzi"
      }
    },
    {
      "cell_type": "code",
      "source": [
        "# Train RandomForest with best parameters\n",
        "best_params = study.best_params\n",
        "final_model = RandomForestClassifier(**best_params, random_state=42)\n",
        "X_train, X_test, y_train, y_test = train_test_split(X_reduced, y, test_size=0.2, random_state=42)\n",
        "\n",
        "# Measure runtime\n",
        "start_time = time.time()\n",
        "final_model.fit(X_train, y_train)\n",
        "y_pred = final_model.predict(X_test)\n",
        "end_time = time.time()\n",
        "\n",
        "# Evaluation Metrics\n",
        "print(\"\\nClassification Report:\")\n",
        "print(classification_report(y_test, y_pred))\n",
        "\n",
        "print(\"\\nConfusion Matrix:\")\n",
        "print(confusion_matrix(y_test, y_pred))\n",
        "\n",
        "print(\"\\nMean Squared Error:\", mean_squared_error(y_test, y_pred))\n",
        "print(\"\\nAccuracy Score:\", accuracy_score(y_test, y_pred))\n",
        "\n",
        "# Runtime\n",
        "print(\"\\nRuntime (in seconds):\", end_time - start_time)\n",
        "\n",
        "\n"
      ],
      "metadata": {
        "colab": {
          "base_uri": "https://localhost:8080/"
        },
        "id": "Ll7mlud6R19c",
        "outputId": "608bbac6-1dda-41b1-c75e-8f7105548c14"
      },
      "execution_count": null,
      "outputs": [
        {
          "output_type": "stream",
          "name": "stdout",
          "text": [
            "\n",
            "Classification Report:\n",
            "              precision    recall  f1-score   support\n",
            "\n",
            "           0       0.83      0.83      0.83        18\n",
            "           1       0.64      0.98      0.77        47\n",
            "           2       1.00      0.04      0.07        26\n",
            "\n",
            "    accuracy                           0.68        91\n",
            "   macro avg       0.82      0.62      0.56        91\n",
            "weighted avg       0.78      0.68      0.59        91\n",
            "\n",
            "\n",
            "Confusion Matrix:\n",
            "[[15  3  0]\n",
            " [ 1 46  0]\n",
            " [ 2 23  1]]\n",
            "\n",
            "Mean Squared Error: 0.38461538461538464\n",
            "\n",
            "Accuracy Score: 0.6813186813186813\n",
            "\n",
            "Runtime (in seconds): 0.4321873188018799\n"
          ]
        }
      ]
    },
    {
      "cell_type": "code",
      "source": [
        "# Train with all features for comparison\n",
        "model_full = RandomForestClassifier(**best_params, random_state=42)\n",
        "X_train_full, X_test_full, y_train_full, y_test_full = train_test_split(X_scaled, y, test_size=0.2, random_state=42)\n",
        "\n",
        "# Measure runtime\n",
        "start_time_full = time.time()\n",
        "model_full.fit(X_train_full, y_train_full)\n",
        "y_pred_full = model_full.predict(X_test_full)\n",
        "end_time_full = time.time()\n",
        "\n",
        "# Evaluation Metrics\n",
        "print(\"\\nAccuracy with All Features:\", accuracy_score(y_test_full, y_pred_full))\n",
        "print(\"Accuracy with Selected Features:\", accuracy_score(y_test, y_pred))\n",
        "print(\"\\nRuntime with All Features (in seconds):\", end_time_full - start_time_full)\n"
      ],
      "metadata": {
        "colab": {
          "base_uri": "https://localhost:8080/"
        },
        "id": "R2L-Ycs2SFMg",
        "outputId": "d8a50c0c-cb7b-4222-8ec1-221d77c8b714"
      },
      "execution_count": null,
      "outputs": [
        {
          "output_type": "stream",
          "name": "stdout",
          "text": [
            "\n",
            "Accuracy with All Features: 0.6813186813186813\n",
            "Accuracy with Selected Features: 0.6813186813186813\n",
            "\n",
            "Runtime with All Features (in seconds): 0.9079759120941162\n"
          ]
        }
      ]
    },
    {
      "cell_type": "code",
      "source": [
        "# Import required libraries\n",
        "import pandas as pd\n",
        "import numpy as np\n",
        "import time\n",
        "from sklearn.model_selection import train_test_split\n",
        "from sklearn.ensemble import RandomForestClassifier\n",
        "from sklearn.metrics import classification_report, confusion_matrix, mean_squared_error, accuracy_score\n"
      ],
      "metadata": {
        "id": "yLuXNk3OSIUN"
      },
      "execution_count": null,
      "outputs": []
    },
    {
      "cell_type": "code",
      "source": [
        "# Load dataset (replace with your file path)\n",
        "file_path = '/content/Maternal Health Risk Data Set.csv'  # Update path if necessary\n",
        "df = pd.read_csv(file_path)\n",
        "\n",
        "# Encode target variable if categorical\n",
        "y = pd.factorize(df[\"RiskLevel\"])[0]\n",
        "X = df.drop(\"RiskLevel\", axis=1)\n",
        "\n",
        "# Selected Features from Feature Selection Step\n",
        "selected_features = ['Age', 'SystolicBP', 'DiastolicBP', 'HeartRate']  # Replace with your selected features\n",
        "\n",
        "# Transform the data\n",
        "X_selected = X[selected_features]\n",
        "\n",
        "# Normalize data (Min-Max Scaling)\n",
        "from sklearn.preprocessing import MinMaxScaler\n",
        "scaler = MinMaxScaler()\n",
        "X_scaled = scaler.fit_transform(X)\n",
        "X_selected_scaled = scaler.fit_transform(X_selected)\n"
      ],
      "metadata": {
        "id": "nCaFp3CoS9lh"
      },
      "execution_count": null,
      "outputs": []
    },
    {
      "cell_type": "code",
      "source": [
        "# Train-Test Split\n",
        "X_train_all, X_test_all, y_train_all, y_test_all = train_test_split(X_scaled, y, test_size=0.2, random_state=42)\n",
        "\n",
        "# Initialize Random Forest\n",
        "rf_all = RandomForestClassifier(n_estimators=100, random_state=42)\n",
        "\n",
        "# Measure runtime for training and prediction\n",
        "start_time_all = time.time()\n",
        "rf_all.fit(X_train_all, y_train_all)\n",
        "y_pred_all = rf_all.predict(X_test_all)\n",
        "end_time_all = time.time()\n",
        "\n",
        "# Evaluation Metrics\n",
        "print(\"### Random Forest with All Features ###\")\n",
        "print(\"Classification Report:\\n\", classification_report(y_test_all, y_pred_all))\n",
        "print(\"Confusion Matrix:\\n\", confusion_matrix(y_test_all, y_pred_all))\n",
        "print(\"Mean Squared Error:\", mean_squared_error(y_test_all, y_pred_all))\n",
        "print(\"Accuracy:\", accuracy_score(y_test_all, y_pred_all))\n",
        "print(\"Runtime (in seconds):\", end_time_all - start_time_all)\n"
      ],
      "metadata": {
        "colab": {
          "base_uri": "https://localhost:8080/"
        },
        "id": "1Ty0YxVITEZz",
        "outputId": "0f60bf08-76fc-4082-8a3b-e384c2bd3a91"
      },
      "execution_count": null,
      "outputs": [
        {
          "output_type": "stream",
          "name": "stdout",
          "text": [
            "### Random Forest with All Features ###\n",
            "Classification Report:\n",
            "               precision    recall  f1-score   support\n",
            "\n",
            "           0       0.87      0.85      0.86        47\n",
            "           1       0.86      0.76      0.81        80\n",
            "           2       0.74      0.84      0.79        76\n",
            "\n",
            "    accuracy                           0.81       203\n",
            "   macro avg       0.82      0.82      0.82       203\n",
            "weighted avg       0.82      0.81      0.81       203\n",
            "\n",
            "Confusion Matrix:\n",
            " [[40  1  6]\n",
            " [ 3 61 16]\n",
            " [ 3  9 64]]\n",
            "Mean Squared Error: 0.32019704433497537\n",
            "Accuracy: 0.812807881773399\n",
            "Runtime (in seconds): 0.20415496826171875\n"
          ]
        }
      ]
    },
    {
      "cell_type": "code",
      "source": [
        "# Train-Test Split\n",
        "X_train_selected, X_test_selected, y_train_selected, y_test_selected = train_test_split(X_selected_scaled, y, test_size=0.2, random_state=42)\n",
        "\n",
        "# Initialize Random Forest\n",
        "rf_selected = RandomForestClassifier(n_estimators=100, random_state=42)\n",
        "\n",
        "# Measure runtime for training and prediction\n",
        "start_time_selected = time.time()\n",
        "rf_selected.fit(X_train_selected, y_train_selected)\n",
        "y_pred_selected = rf_selected.predict(X_test_selected)\n",
        "end_time_selected = time.time()\n",
        "\n",
        "# Evaluation Metrics\n",
        "print(\"\\n### Random Forest with Selected Features ###\")\n",
        "print(\"Classification Report:\\n\", classification_report(y_test_selected, y_pred_selected))\n",
        "print(\"Confusion Matrix:\\n\", confusion_matrix(y_test_selected, y_pred_selected))\n",
        "print(\"Mean Squared Error:\", mean_squared_error(y_test_selected, y_pred_selected))\n",
        "print(\"Accuracy:\", accuracy_score(y_test_selected, y_pred_selected))\n",
        "print(\"Runtime (in seconds):\", end_time_selected - start_time_selected)\n"
      ],
      "metadata": {
        "colab": {
          "base_uri": "https://localhost:8080/"
        },
        "id": "Y45T-aNsTMBF",
        "outputId": "30e02ed0-8062-4e5a-9085-86dbf9cde175"
      },
      "execution_count": null,
      "outputs": [
        {
          "output_type": "stream",
          "name": "stdout",
          "text": [
            "\n",
            "### Random Forest with Selected Features ###\n",
            "Classification Report:\n",
            "               precision    recall  f1-score   support\n",
            "\n",
            "           0       0.79      0.79      0.79        47\n",
            "           1       0.66      0.69      0.67        80\n",
            "           2       0.70      0.67      0.68        76\n",
            "\n",
            "    accuracy                           0.70       203\n",
            "   macro avg       0.72      0.72      0.72       203\n",
            "weighted avg       0.70      0.70      0.70       203\n",
            "\n",
            "Confusion Matrix:\n",
            " [[37  7  3]\n",
            " [ 6 55 19]\n",
            " [ 4 21 51]]\n",
            "Mean Squared Error: 0.39901477832512317\n",
            "Accuracy: 0.7044334975369458\n",
            "Runtime (in seconds): 0.32778000831604004\n"
          ]
        }
      ]
    },
    {
      "cell_type": "code",
      "source": [
        "# Print the comparison results\n",
        "print(\"\\n### Comparison of All Features vs Selected Features ###\")\n",
        "print(f\"Accuracy with All Features: {accuracy_score(y_test_all, y_pred_all):.4f}\")\n",
        "print(f\"Accuracy with Selected Features: {accuracy_score(y_test_selected, y_pred_selected):.4f}\")\n",
        "print(f\"Runtime with All Features: {end_time_all - start_time_all:.4f} seconds\")\n",
        "print(f\"Runtime with Selected Features: {end_time_selected - start_time_selected:.4f} seconds\")\n"
      ],
      "metadata": {
        "colab": {
          "base_uri": "https://localhost:8080/"
        },
        "id": "NsxqjeQgTQPM",
        "outputId": "3d078e11-f4cc-4f83-eef2-f5317f52692d"
      },
      "execution_count": null,
      "outputs": [
        {
          "output_type": "stream",
          "name": "stdout",
          "text": [
            "\n",
            "### Comparison of All Features vs Selected Features ###\n",
            "Accuracy with All Features: 0.8128\n",
            "Accuracy with Selected Features: 0.7044\n",
            "Runtime with All Features: 0.2042 seconds\n",
            "Runtime with Selected Features: 0.3278 seconds\n"
          ]
        }
      ]
    },
    {
      "cell_type": "markdown",
      "source": [
        "## XG BOOST"
      ],
      "metadata": {
        "id": "3VVmbqyjoYNh"
      }
    },
    {
      "cell_type": "code",
      "source": [
        "# Import required libraries\n",
        "import pandas as pd\n",
        "import numpy as np\n",
        "import time\n",
        "from sklearn.model_selection import train_test_split\n",
        "from sklearn.metrics import classification_report, confusion_matrix, mean_squared_error, accuracy_score\n",
        "from xgboost import XGBClassifier  # XGBoost library\n"
      ],
      "metadata": {
        "id": "fVsSZCofk5yN"
      },
      "execution_count": null,
      "outputs": []
    },
    {
      "cell_type": "code",
      "source": [
        "# Load dataset (replace with your file path)\n",
        "file_path = '/content/Maternal Health Risk Data Set.csv'  # Update path if necessary\n",
        "df = pd.read_csv(file_path)\n",
        "\n",
        "# Encode target variable if categorical\n",
        "y = pd.factorize(df[\"RiskLevel\"])[0]\n",
        "X = df.drop(\"RiskLevel\", axis=1)\n",
        "\n",
        "# Selected Features from Feature Selection Step\n",
        "selected_features = ['Age', 'SystolicBP', 'DiastolicBP', 'HeartRate']  # Replace with your selected features\n",
        "\n",
        "# Transform the data\n",
        "X_selected = X[selected_features]\n",
        "\n",
        "# Normalize data (Min-Max Scaling)\n",
        "from sklearn.preprocessing import MinMaxScaler\n",
        "scaler = MinMaxScaler()\n",
        "X_scaled = scaler.fit_transform(X)\n",
        "X_selected_scaled = scaler.fit_transform(X_selected)\n"
      ],
      "metadata": {
        "id": "ECvI_SCGlHq1"
      },
      "execution_count": null,
      "outputs": []
    },
    {
      "cell_type": "code",
      "source": [
        "# Train-Test Split\n",
        "X_train_all, X_test_all, y_train_all, y_test_all = train_test_split(X_scaled, y, test_size=0.2, random_state=42)\n",
        "\n",
        "# Initialize XGBoost\n",
        "xgb_all = XGBClassifier(n_estimators=100, random_state=42, use_label_encoder=False, eval_metric='logloss')\n",
        "\n",
        "# Measure runtime for training and prediction\n",
        "start_time_all = time.time()\n",
        "xgb_all.fit(X_train_all, y_train_all)\n",
        "y_pred_all = xgb_all.predict(X_test_all)\n",
        "end_time_all = time.time()\n",
        "\n",
        "# Evaluation Metrics\n",
        "print(\"### XGBoost with All Features ###\")\n",
        "print(\"Classification Report:\\n\", classification_report(y_test_all, y_pred_all))\n",
        "print(\"Confusion Matrix:\\n\", confusion_matrix(y_test_all, y_pred_all))\n",
        "print(\"Mean Squared Error:\", mean_squared_error(y_test_all, y_pred_all))\n",
        "print(\"Accuracy:\", accuracy_score(y_test_all, y_pred_all))\n",
        "print(\"Runtime (in seconds):\", end_time_all - start_time_all)\n"
      ],
      "metadata": {
        "colab": {
          "base_uri": "https://localhost:8080/"
        },
        "id": "990KxmwflPcI",
        "outputId": "20ee162c-4d32-43fb-b5d8-4a9c0a6509f5"
      },
      "execution_count": null,
      "outputs": [
        {
          "output_type": "stream",
          "name": "stdout",
          "text": [
            "### XGBoost with All Features ###\n",
            "Classification Report:\n",
            "               precision    recall  f1-score   support\n",
            "\n",
            "           0       0.85      0.87      0.86        47\n",
            "           1       0.87      0.82      0.85        80\n",
            "           2       0.81      0.84      0.83        76\n",
            "\n",
            "    accuracy                           0.84       203\n",
            "   macro avg       0.84      0.85      0.85       203\n",
            "weighted avg       0.84      0.84      0.84       203\n",
            "\n",
            "Confusion Matrix:\n",
            " [[41  1  5]\n",
            " [ 4 66 10]\n",
            " [ 3  9 64]]\n",
            "Mean Squared Error: 0.27586206896551724\n",
            "Accuracy: 0.8423645320197044\n",
            "Runtime (in seconds): 0.14350390434265137\n"
          ]
        }
      ]
    },
    {
      "cell_type": "code",
      "source": [
        "# Train-Test Split\n",
        "X_train_selected, X_test_selected, y_train_selected, y_test_selected = train_test_split(X_selected_scaled, y, test_size=0.2, random_state=42)\n",
        "\n",
        "# Initialize XGBoost\n",
        "xgb_selected = XGBClassifier(n_estimators=100, random_state=42, use_label_encoder=False, eval_metric='logloss')\n",
        "\n",
        "# Measure runtime for training and prediction\n",
        "start_time_selected = time.time()\n",
        "xgb_selected.fit(X_train_selected, y_train_selected)\n",
        "y_pred_selected = xgb_selected.predict(X_test_selected)\n",
        "end_time_selected = time.time()\n",
        "\n",
        "# Evaluation Metrics\n",
        "print(\"\\n### XGBoost with Selected Features ###\")\n",
        "print(\"Classification Report:\\n\", classification_report(y_test_selected, y_pred_selected))\n",
        "print(\"Confusion Matrix:\\n\", confusion_matrix(y_test_selected, y_pred_selected))\n",
        "print(\"Mean Squared Error:\", mean_squared_error(y_test_selected, y_pred_selected))\n",
        "print(\"Accuracy:\", accuracy_score(y_test_selected, y_pred_selected))\n",
        "print(\"Runtime (in seconds):\", end_time_selected - start_time_selected)\n"
      ],
      "metadata": {
        "colab": {
          "base_uri": "https://localhost:8080/"
        },
        "id": "s7BRgu5IlU8m",
        "outputId": "6458b1a9-f44b-422e-c87c-ed111d763da1"
      },
      "execution_count": null,
      "outputs": [
        {
          "output_type": "stream",
          "name": "stdout",
          "text": [
            "\n",
            "### XGBoost with Selected Features ###\n",
            "Classification Report:\n",
            "               precision    recall  f1-score   support\n",
            "\n",
            "           0       0.79      0.81      0.80        47\n",
            "           1       0.69      0.69      0.69        80\n",
            "           2       0.71      0.70      0.70        76\n",
            "\n",
            "    accuracy                           0.72       203\n",
            "   macro avg       0.73      0.73      0.73       203\n",
            "weighted avg       0.72      0.72      0.72       203\n",
            "\n",
            "Confusion Matrix:\n",
            " [[38  6  3]\n",
            " [ 6 55 19]\n",
            " [ 4 19 53]]\n",
            "Mean Squared Error: 0.3842364532019704\n",
            "Accuracy: 0.7192118226600985\n",
            "Runtime (in seconds): 0.09532666206359863\n"
          ]
        }
      ]
    },
    {
      "cell_type": "code",
      "source": [
        "# Print the comparison results\n",
        "print(\"\\n### Comparison of All Features vs Selected Features ###\")\n",
        "print(f\"Accuracy with All Features: {accuracy_score(y_test_all, y_pred_all):.4f}\")\n",
        "print(f\"Accuracy with Selected Features: {accuracy_score(y_test_selected, y_pred_selected):.4f}\")\n",
        "print(f\"Runtime with All Features: {end_time_all - start_time_all:.4f} seconds\")\n",
        "print(f\"Runtime with Selected Features: {end_time_selected - start_time_selected:.4f} seconds\")\n"
      ],
      "metadata": {
        "colab": {
          "base_uri": "https://localhost:8080/"
        },
        "id": "eEobiB5qlZFz",
        "outputId": "c571d043-534f-4f37-ad0f-d4d483063603"
      },
      "execution_count": null,
      "outputs": [
        {
          "output_type": "stream",
          "name": "stdout",
          "text": [
            "\n",
            "### Comparison of All Features vs Selected Features ###\n",
            "Accuracy with All Features: 0.8424\n",
            "Accuracy with Selected Features: 0.7192\n",
            "Runtime with All Features: 0.1435 seconds\n",
            "Runtime with Selected Features: 0.0953 seconds\n"
          ]
        }
      ]
    },
    {
      "cell_type": "markdown",
      "source": [
        "LOGISTIC REGRESSION\n"
      ],
      "metadata": {
        "id": "3iyDzQj9opVV"
      }
    },
    {
      "cell_type": "code",
      "source": [
        "# Import required libraries\n",
        "import pandas as pd\n",
        "import numpy as np\n",
        "import time\n",
        "from sklearn.model_selection import train_test_split\n",
        "from sklearn.metrics import classification_report, confusion_matrix, mean_squared_error, accuracy_score\n",
        "from sklearn.linear_model import LogisticRegression\n",
        "from sklearn.preprocessing import MinMaxScaler\n"
      ],
      "metadata": {
        "id": "bR8DbjtOlpQY"
      },
      "execution_count": null,
      "outputs": []
    },
    {
      "cell_type": "code",
      "source": [
        "# Load dataset (replace with your file path)\n",
        "file_path = '/content/Maternal Health Risk Data Set.csv'  # Update path if necessary\n",
        "df = pd.read_csv(file_path)\n",
        "\n",
        "# Encode target variable if categorical\n",
        "y = pd.factorize(df[\"RiskLevel\"])[0]\n",
        "X = df.drop(\"RiskLevel\", axis=1)\n",
        "\n",
        "# Selected Features from Feature Selection Step\n",
        "selected_features = ['Age', 'SystolicBP', 'DiastolicBP', 'HeartRate']  # Replace with your selected features\n",
        "\n",
        "# Transform the data\n",
        "X_selected = X[selected_features]\n",
        "\n",
        "# Normalize data (Min-Max Scaling)\n",
        "scaler = MinMaxScaler()\n",
        "X_scaled = scaler.fit_transform(X)\n",
        "X_selected_scaled = scaler.fit_transform(X_selected)\n"
      ],
      "metadata": {
        "id": "gCXkIW3Mlti-"
      },
      "execution_count": null,
      "outputs": []
    },
    {
      "cell_type": "code",
      "source": [
        "# Train-Test Split\n",
        "X_train_all, X_test_all, y_train_all, y_test_all = train_test_split(X_scaled, y, test_size=0.2, random_state=42)\n",
        "\n",
        "# Initialize Logistic Regression\n",
        "lr_all = LogisticRegression(max_iter=1000, random_state=42)\n",
        "\n",
        "# Measure runtime for training and prediction\n",
        "start_time_all = time.time()\n",
        "lr_all.fit(X_train_all, y_train_all)\n",
        "y_pred_all = lr_all.predict(X_test_all)\n",
        "end_time_all = time.time()\n",
        "\n",
        "# Evaluation Metrics\n",
        "print(\"### Logistic Regression with All Features ###\")\n",
        "print(\"Classification Report:\\n\", classification_report(y_test_all, y_pred_all))\n",
        "print(\"Confusion Matrix:\\n\", confusion_matrix(y_test_all, y_pred_all))\n",
        "print(\"Mean Squared Error:\", mean_squared_error(y_test_all, y_pred_all))\n",
        "print(\"Accuracy:\", accuracy_score(y_test_all, y_pred_all))\n",
        "print(\"Runtime (in seconds):\", end_time_all - start_time_all)\n"
      ],
      "metadata": {
        "colab": {
          "base_uri": "https://localhost:8080/"
        },
        "id": "4_k7pmv9l1A8",
        "outputId": "f3b4ebaf-88af-47af-be77-b0237f9583a2"
      },
      "execution_count": null,
      "outputs": [
        {
          "output_type": "stream",
          "name": "stdout",
          "text": [
            "### Logistic Regression with All Features ###\n",
            "Classification Report:\n",
            "               precision    recall  f1-score   support\n",
            "\n",
            "           0       0.69      0.81      0.75        47\n",
            "           1       0.60      0.88      0.71        80\n",
            "           2       0.62      0.26      0.37        76\n",
            "\n",
            "    accuracy                           0.63       203\n",
            "   macro avg       0.64      0.65      0.61       203\n",
            "weighted avg       0.63      0.63      0.59       203\n",
            "\n",
            "Confusion Matrix:\n",
            " [[38  3  6]\n",
            " [ 4 70  6]\n",
            " [13 43 20]]\n",
            "Mean Squared Error: 0.6502463054187192\n",
            "Accuracy: 0.6305418719211823\n",
            "Runtime (in seconds): 0.05645012855529785\n"
          ]
        }
      ]
    },
    {
      "cell_type": "code",
      "source": [
        "# Train-Test Split\n",
        "X_train_selected, X_test_selected, y_train_selected, y_test_selected = train_test_split(X_selected_scaled, y, test_size=0.2, random_state=42)\n",
        "\n",
        "# Initialize Logistic Regression\n",
        "lr_selected = LogisticRegression(max_iter=1000, random_state=42)\n",
        "\n",
        "# Measure runtime for training and prediction\n",
        "start_time_selected = time.time()\n",
        "lr_selected.fit(X_train_selected, y_train_selected)\n",
        "y_pred_selected = lr_selected.predict(X_test_selected)\n",
        "end_time_selected = time.time()\n",
        "\n",
        "# Evaluation Metrics\n",
        "print(\"\\n### Logistic Regression with Selected Features ###\")\n",
        "print(\"Classification Report:\\n\", classification_report(y_test_selected, y_pred_selected))\n",
        "print(\"Confusion Matrix:\\n\", confusion_matrix(y_test_selected, y_pred_selected))\n",
        "print(\"Mean Squared Error:\", mean_squared_error(y_test_selected, y_pred_selected))\n",
        "print(\"Accuracy:\", accuracy_score(y_test_selected, y_pred_selected))\n",
        "print(\"Runtime (in seconds):\", end_time_selected - start_time_selected)\n"
      ],
      "metadata": {
        "colab": {
          "base_uri": "https://localhost:8080/"
        },
        "id": "c4R-Q7n3l5Bc",
        "outputId": "e10106f1-d498-4865-91f0-692f1e7243cb"
      },
      "execution_count": null,
      "outputs": [
        {
          "output_type": "stream",
          "name": "stdout",
          "text": [
            "\n",
            "### Logistic Regression with Selected Features ###\n",
            "Classification Report:\n",
            "               precision    recall  f1-score   support\n",
            "\n",
            "           0       0.59      0.70      0.64        47\n",
            "           1       0.54      0.84      0.65        80\n",
            "           2       0.73      0.21      0.33        76\n",
            "\n",
            "    accuracy                           0.57       203\n",
            "   macro avg       0.62      0.58      0.54       203\n",
            "weighted avg       0.62      0.57      0.53       203\n",
            "\n",
            "Confusion Matrix:\n",
            " [[33 11  3]\n",
            " [10 67  3]\n",
            " [13 47 16]]\n",
            "Mean Squared Error: 0.6650246305418719\n",
            "Accuracy: 0.5714285714285714\n",
            "Runtime (in seconds): 0.011117696762084961\n"
          ]
        }
      ]
    },
    {
      "cell_type": "code",
      "source": [
        "# Print the comparison results\n",
        "print(\"\\n### Comparison of All Features vs Selected Features ###\")\n",
        "print(f\"Accuracy with All Features: {accuracy_score(y_test_all, y_pred_all):.4f}\")\n",
        "print(f\"Accuracy with Selected Features: {accuracy_score(y_test_selected, y_pred_selected):.4f}\")\n",
        "print(f\"Runtime with All Features: {end_time_all - start_time_all:.4f} seconds\")\n",
        "print(f\"Runtime with Selected Features: {end_time_selected - start_time_selected:.4f} seconds\")\n"
      ],
      "metadata": {
        "colab": {
          "base_uri": "https://localhost:8080/"
        },
        "id": "T8O10OcAl8hp",
        "outputId": "d699b10e-2c24-4779-84be-0abad5de217e"
      },
      "execution_count": null,
      "outputs": [
        {
          "output_type": "stream",
          "name": "stdout",
          "text": [
            "\n",
            "### Comparison of All Features vs Selected Features ###\n",
            "Accuracy with All Features: 0.6305\n",
            "Accuracy with Selected Features: 0.5714\n",
            "Runtime with All Features: 0.0565 seconds\n",
            "Runtime with Selected Features: 0.0111 seconds\n"
          ]
        }
      ]
    },
    {
      "cell_type": "markdown",
      "source": [
        "K Neighbour Nearest\n"
      ],
      "metadata": {
        "id": "SQnYPNZyozbL"
      }
    },
    {
      "cell_type": "code",
      "source": [
        "# Import required libraries\n",
        "import pandas as pd\n",
        "import numpy as np\n",
        "import time\n",
        "from sklearn.model_selection import train_test_split\n",
        "from sklearn.metrics import classification_report, confusion_matrix, mean_squared_error, accuracy_score\n",
        "from sklearn.neighbors import KNeighborsClassifier\n",
        "from sklearn.preprocessing import MinMaxScaler\n"
      ],
      "metadata": {
        "id": "C9fmh7SYl-fl"
      },
      "execution_count": null,
      "outputs": []
    },
    {
      "cell_type": "code",
      "source": [
        "# Load dataset (replace with your file path)\n",
        "file_path = '/content/Maternal Health Risk Data Set.csv'  # Update path if necessary\n",
        "df = pd.read_csv(file_path)\n",
        "\n",
        "# Encode target variable if categorical\n",
        "y = pd.factorize(df[\"RiskLevel\"])[0]\n",
        "X = df.drop(\"RiskLevel\", axis=1)\n",
        "\n",
        "# Selected Features from Feature Selection Step\n",
        "selected_features = ['Age', 'SystolicBP', 'DiastolicBP', 'HeartRate']  # Replace with your selected features\n",
        "\n",
        "# Transform the data\n",
        "X_selected = X[selected_features]\n",
        "\n",
        "# Normalize data (Min-Max Scaling)\n",
        "scaler = MinMaxScaler()\n",
        "X_scaled = scaler.fit_transform(X)\n",
        "X_selected_scaled = scaler.fit_transform(X_selected)\n"
      ],
      "metadata": {
        "id": "ENLKh4_Eni4T"
      },
      "execution_count": null,
      "outputs": []
    },
    {
      "cell_type": "code",
      "source": [
        "# Train-Test Split\n",
        "X_train_all, X_test_all, y_train_all, y_test_all = train_test_split(X_scaled, y, test_size=0.2, random_state=42)\n",
        "\n",
        "# Initialize KNN Classifier\n",
        "knn_all = KNeighborsClassifier(n_neighbors=5)  # Default k=5, you can tune this\n",
        "\n",
        "# Measure runtime for training and prediction\n",
        "start_time_all = time.time()\n",
        "knn_all.fit(X_train_all, y_train_all)\n",
        "y_pred_all = knn_all.predict(X_test_all)\n",
        "end_time_all = time.time()\n",
        "\n",
        "# Evaluation Metrics\n",
        "print(\"### KNN with All Features ###\")\n",
        "print(\"Classification Report:\\n\", classification_report(y_test_all, y_pred_all))\n",
        "print(\"Confusion Matrix:\\n\", confusion_matrix(y_test_all, y_pred_all))\n",
        "print(\"Mean Squared Error:\", mean_squared_error(y_test_all, y_pred_all))\n",
        "print(\"Accuracy:\", accuracy_score(y_test_all, y_pred_all))\n",
        "print(\"Runtime (in seconds):\", end_time_all - start_time_all)\n"
      ],
      "metadata": {
        "colab": {
          "base_uri": "https://localhost:8080/"
        },
        "id": "FXAXbqiqnlz5",
        "outputId": "03cc8d1f-9be4-40aa-e95b-da83fa47602d"
      },
      "execution_count": null,
      "outputs": [
        {
          "output_type": "stream",
          "name": "stdout",
          "text": [
            "### KNN with All Features ###\n",
            "Classification Report:\n",
            "               precision    recall  f1-score   support\n",
            "\n",
            "           0       0.80      0.83      0.81        47\n",
            "           1       0.66      0.75      0.70        80\n",
            "           2       0.65      0.54      0.59        76\n",
            "\n",
            "    accuracy                           0.69       203\n",
            "   macro avg       0.70      0.71      0.70       203\n",
            "weighted avg       0.69      0.69      0.69       203\n",
            "\n",
            "Confusion Matrix:\n",
            " [[39  3  5]\n",
            " [ 3 60 17]\n",
            " [ 7 28 41]]\n",
            "Mean Squared Error: 0.4876847290640394\n",
            "Accuracy: 0.6896551724137931\n",
            "Runtime (in seconds): 0.02553272247314453\n"
          ]
        }
      ]
    },
    {
      "cell_type": "code",
      "source": [
        "# Train-Test Split\n",
        "X_train_selected, X_test_selected, y_train_selected, y_test_selected = train_test_split(X_selected_scaled, y, test_size=0.2, random_state=42)\n",
        "\n",
        "# Initialize KNN Classifier\n",
        "knn_selected = KNeighborsClassifier(n_neighbors=5)  # Default k=5, you can tune this\n",
        "\n",
        "# Measure runtime for training and prediction\n",
        "start_time_selected = time.time()\n",
        "knn_selected.fit(X_train_selected, y_train_selected)\n",
        "y_pred_selected = knn_selected.predict(X_test_selected)\n",
        "end_time_selected = time.time()\n",
        "\n",
        "# Evaluation Metrics\n",
        "print(\"\\n### KNN with Selected Features ###\")\n",
        "print(\"Classification Report:\\n\", classification_report(y_test_selected, y_pred_selected))\n",
        "print(\"Confusion Matrix:\\n\", confusion_matrix(y_test_selected, y_pred_selected))\n",
        "print(\"Mean Squared Error:\", mean_squared_error(y_test_selected, y_pred_selected))\n",
        "print(\"Accuracy:\", accuracy_score(y_test_selected, y_pred_selected))\n",
        "print(\"Runtime (in seconds):\", end_time_selected - start_time_selected)\n"
      ],
      "metadata": {
        "colab": {
          "base_uri": "https://localhost:8080/"
        },
        "id": "DVGf49_PnqIq",
        "outputId": "a206e957-1e51-4a01-bcf1-acd2489cf3d6"
      },
      "execution_count": null,
      "outputs": [
        {
          "output_type": "stream",
          "name": "stdout",
          "text": [
            "\n",
            "### KNN with Selected Features ###\n",
            "Classification Report:\n",
            "               precision    recall  f1-score   support\n",
            "\n",
            "           0       0.63      0.72      0.67        47\n",
            "           1       0.61      0.72      0.66        80\n",
            "           2       0.69      0.49      0.57        76\n",
            "\n",
            "    accuracy                           0.64       203\n",
            "   macro avg       0.64      0.65      0.64       203\n",
            "weighted avg       0.64      0.64      0.63       203\n",
            "\n",
            "Confusion Matrix:\n",
            " [[34 11  2]\n",
            " [ 7 58 15]\n",
            " [13 26 37]]\n",
            "Mean Squared Error: 0.5862068965517241\n",
            "Accuracy: 0.6354679802955665\n",
            "Runtime (in seconds): 0.022955656051635742\n"
          ]
        }
      ]
    },
    {
      "cell_type": "code",
      "source": [
        "# Print the comparison results\n",
        "print(\"\\n### Comparison of All Features vs Selected Features ###\")\n",
        "print(f\"Accuracy with All Features: {accuracy_score(y_test_all, y_pred_all):.4f}\")\n",
        "print(f\"Accuracy with Selected Features: {accuracy_score(y_test_selected, y_pred_selected):.4f}\")\n",
        "print(f\"Runtime with All Features: {end_time_all - start_time_all:.4f} seconds\")\n",
        "print(f\"Runtime with Selected Features: {end_time_selected - start_time_selected:.4f} seconds\")\n"
      ],
      "metadata": {
        "colab": {
          "base_uri": "https://localhost:8080/"
        },
        "id": "UDxXoWe3ntws",
        "outputId": "14bd647e-aee4-4643-a7e3-e7e121ca0889"
      },
      "execution_count": null,
      "outputs": [
        {
          "output_type": "stream",
          "name": "stdout",
          "text": [
            "\n",
            "### Comparison of All Features vs Selected Features ###\n",
            "Accuracy with All Features: 0.6897\n",
            "Accuracy with Selected Features: 0.6355\n",
            "Runtime with All Features: 0.0255 seconds\n",
            "Runtime with Selected Features: 0.0230 seconds\n"
          ]
        }
      ]
    },
    {
      "cell_type": "markdown",
      "source": [
        "Gradient Boosting Classifier"
      ],
      "metadata": {
        "id": "QS183weOpKMJ"
      }
    },
    {
      "cell_type": "code",
      "source": [
        "# Import required libraries\n",
        "import pandas as pd\n",
        "import numpy as np\n",
        "import time\n",
        "from sklearn.model_selection import train_test_split\n",
        "from sklearn.metrics import classification_report, confusion_matrix, mean_squared_error, accuracy_score\n",
        "from sklearn.ensemble import GradientBoostingClassifier\n",
        "from sklearn.preprocessing import MinMaxScaler\n"
      ],
      "metadata": {
        "id": "TZNNsqBWnyal"
      },
      "execution_count": null,
      "outputs": []
    },
    {
      "cell_type": "code",
      "source": [
        "# Load dataset (replace with your file path)\n",
        "file_path = '/content/Maternal Health Risk Data Set.csv'  # Update path if necessary\n",
        "df = pd.read_csv(file_path)\n",
        "\n",
        "# Encode target variable if categorical\n",
        "y = pd.factorize(df[\"RiskLevel\"])[0]\n",
        "X = df.drop(\"RiskLevel\", axis=1)\n",
        "\n",
        "# Selected Features from Feature Selection Step\n",
        "selected_features = ['Age', 'SystolicBP', 'DiastolicBP', 'HeartRate']  # Replace with your selected features\n",
        "\n",
        "# Transform the data\n",
        "X_selected = X[selected_features]\n",
        "\n",
        "# Normalize data (Min-Max Scaling)\n",
        "scaler = MinMaxScaler()\n",
        "X_scaled = scaler.fit_transform(X)\n",
        "X_selected_scaled = scaler.fit_transform(X_selected)\n"
      ],
      "metadata": {
        "id": "QTCI79LJpbTW"
      },
      "execution_count": null,
      "outputs": []
    },
    {
      "cell_type": "code",
      "source": [
        "# Train-Test Split\n",
        "X_train_all, X_test_all, y_train_all, y_test_all = train_test_split(X_scaled, y, test_size=0.2, random_state=42)\n",
        "\n",
        "# Initialize Gradient Boosting Classifier\n",
        "gbc_all = GradientBoostingClassifier(random_state=42)\n",
        "\n",
        "# Measure runtime for training and prediction\n",
        "start_time_all = time.time()\n",
        "gbc_all.fit(X_train_all, y_train_all)\n",
        "y_pred_all = gbc_all.predict(X_test_all)\n",
        "end_time_all = time.time()\n",
        "\n",
        "# Evaluation Metrics\n",
        "print(\"### Gradient Boosting Classifier with All Features ###\")\n",
        "print(\"Classification Report:\\n\", classification_report(y_test_all, y_pred_all))\n",
        "print(\"Confusion Matrix:\\n\", confusion_matrix(y_test_all, y_pred_all))\n",
        "print(\"Mean Squared Error:\", mean_squared_error(y_test_all, y_pred_all))\n",
        "print(\"Accuracy:\", accuracy_score(y_test_all, y_pred_all))\n",
        "print(\"Runtime (in seconds):\", end_time_all - start_time_all)\n"
      ],
      "metadata": {
        "colab": {
          "base_uri": "https://localhost:8080/"
        },
        "id": "Qu2sdRwspeKj",
        "outputId": "45f71868-2a05-40b4-cfa0-adc5253d3020"
      },
      "execution_count": null,
      "outputs": [
        {
          "output_type": "stream",
          "name": "stdout",
          "text": [
            "### Gradient Boosting Classifier with All Features ###\n",
            "Classification Report:\n",
            "               precision    recall  f1-score   support\n",
            "\n",
            "           0       0.80      0.83      0.81        47\n",
            "           1       0.72      0.74      0.73        80\n",
            "           2       0.72      0.68      0.70        76\n",
            "\n",
            "    accuracy                           0.74       203\n",
            "   macro avg       0.75      0.75      0.75       203\n",
            "weighted avg       0.74      0.74      0.74       203\n",
            "\n",
            "Confusion Matrix:\n",
            " [[39  4  4]\n",
            " [ 5 59 16]\n",
            " [ 5 19 52]]\n",
            "Mean Squared Error: 0.39408866995073893\n",
            "Accuracy: 0.7389162561576355\n",
            "Runtime (in seconds): 1.324502944946289\n"
          ]
        }
      ]
    },
    {
      "cell_type": "code",
      "source": [
        "# Train-Test Split\n",
        "X_train_selected, X_test_selected, y_train_selected, y_test_selected = train_test_split(X_selected_scaled, y, test_size=0.2, random_state=42)\n",
        "\n",
        "# Initialize Gradient Boosting Classifier\n",
        "gbc_selected = GradientBoostingClassifier(random_state=42)\n",
        "\n",
        "# Measure runtime for training and prediction\n",
        "start_time_selected = time.time()\n",
        "gbc_selected.fit(X_train_selected, y_train_selected)\n",
        "y_pred_selected = gbc_selected.predict(X_test_selected)\n",
        "end_time_selected = time.time()\n",
        "\n",
        "# Evaluation Metrics\n",
        "print(\"\\n### Gradient Boosting Classifier with Selected Features ###\")\n",
        "print(\"Classification Report:\\n\", classification_report(y_test_selected, y_pred_selected))\n",
        "print(\"Confusion Matrix:\\n\", confusion_matrix(y_test_selected, y_pred_selected))\n",
        "print(\"Mean Squared Error:\", mean_squared_error(y_test_selected, y_pred_selected))\n",
        "print(\"Accuracy:\", accuracy_score(y_test_selected, y_pred_selected))\n",
        "print(\"Runtime (in seconds):\", end_time_selected - start_time_selected)\n"
      ],
      "metadata": {
        "colab": {
          "base_uri": "https://localhost:8080/"
        },
        "id": "aTYLTR7CpklX",
        "outputId": "cd872708-df59-4e02-bf6b-832cb3fe5739"
      },
      "execution_count": null,
      "outputs": [
        {
          "output_type": "stream",
          "name": "stdout",
          "text": [
            "\n",
            "### Gradient Boosting Classifier with Selected Features ###\n",
            "Classification Report:\n",
            "               precision    recall  f1-score   support\n",
            "\n",
            "           0       0.76      0.68      0.72        47\n",
            "           1       0.62      0.72      0.67        80\n",
            "           2       0.65      0.58      0.61        76\n",
            "\n",
            "    accuracy                           0.66       203\n",
            "   macro avg       0.68      0.66      0.67       203\n",
            "weighted avg       0.66      0.66      0.66       203\n",
            "\n",
            "Confusion Matrix:\n",
            " [[32  8  7]\n",
            " [ 5 58 17]\n",
            " [ 5 27 44]]\n",
            "Mean Squared Error: 0.5172413793103449\n",
            "Accuracy: 0.6600985221674877\n",
            "Runtime (in seconds): 0.6956322193145752\n"
          ]
        }
      ]
    },
    {
      "cell_type": "code",
      "source": [
        "# Print the comparison results\n",
        "print(\"\\n### Comparison of All Features vs Selected Features ###\")\n",
        "print(f\"Accuracy with All Features: {accuracy_score(y_test_all, y_pred_all):.4f}\")\n",
        "print(f\"Accuracy with Selected Features: {accuracy_score(y_test_selected, y_pred_selected):.4f}\")\n",
        "print(f\"Runtime with All Features: {end_time_all - start_time_all:.4f} seconds\")\n",
        "print(f\"Runtime with Selected Features: {end_time_selected - start_time_selected:.4f} seconds\")\n"
      ],
      "metadata": {
        "colab": {
          "base_uri": "https://localhost:8080/"
        },
        "id": "8U-PA8tspoEG",
        "outputId": "443bc08c-6e28-4ae0-a82b-729829de348d"
      },
      "execution_count": null,
      "outputs": [
        {
          "output_type": "stream",
          "name": "stdout",
          "text": [
            "\n",
            "### Comparison of All Features vs Selected Features ###\n",
            "Accuracy with All Features: 0.7389\n",
            "Accuracy with Selected Features: 0.6601\n",
            "Runtime with All Features: 1.3245 seconds\n",
            "Runtime with Selected Features: 0.6956 seconds\n"
          ]
        }
      ]
    },
    {
      "cell_type": "markdown",
      "source": [
        "LDA"
      ],
      "metadata": {
        "id": "AdimoA1Sp1qe"
      }
    },
    {
      "cell_type": "code",
      "source": [
        "# Import required libraries\n",
        "import pandas as pd\n",
        "import numpy as np\n",
        "import time\n",
        "from sklearn.model_selection import train_test_split\n",
        "from sklearn.metrics import classification_report, confusion_matrix, mean_squared_error, accuracy_score\n",
        "from sklearn.discriminant_analysis import LinearDiscriminantAnalysis\n",
        "from sklearn.preprocessing import MinMaxScaler\n"
      ],
      "metadata": {
        "id": "Dxv4vJ5ypz21"
      },
      "execution_count": null,
      "outputs": []
    },
    {
      "cell_type": "code",
      "source": [
        "# Load dataset (replace with your file path)\n",
        "file_path = '/content/Maternal Health Risk Data Set.csv'  # Update path if necessary\n",
        "df = pd.read_csv(file_path)\n",
        "\n",
        "# Encode target variable if categorical\n",
        "y = pd.factorize(df[\"RiskLevel\"])[0]\n",
        "X = df.drop(\"RiskLevel\", axis=1)\n",
        "\n",
        "# Selected Features from Feature Selection Step\n",
        "selected_features = ['Age', 'SystolicBP', 'DiastolicBP', 'HeartRate']  # Replace with your selected features\n",
        "\n",
        "# Transform the data\n",
        "X_selected = X[selected_features]\n",
        "\n",
        "# Normalize data (Min-Max Scaling)\n",
        "scaler = MinMaxScaler()\n",
        "X_scaled = scaler.fit_transform(X)\n",
        "X_selected_scaled = scaler.fit_transform(X_selected)\n"
      ],
      "metadata": {
        "id": "BzJgxoTip8o8"
      },
      "execution_count": null,
      "outputs": []
    },
    {
      "cell_type": "code",
      "source": [
        "# Train-Test Split\n",
        "X_train_all, X_test_all, y_train_all, y_test_all = train_test_split(X_scaled, y, test_size=0.2, random_state=42)\n",
        "\n",
        "# Initialize LDA\n",
        "lda_all = LinearDiscriminantAnalysis()\n",
        "\n",
        "# Measure runtime for training and prediction\n",
        "start_time_all = time.time()\n",
        "lda_all.fit(X_train_all, y_train_all)\n",
        "y_pred_all = lda_all.predict(X_test_all)\n",
        "end_time_all = time.time()\n",
        "\n",
        "# Evaluation Metrics\n",
        "print(\"### LDA with All Features ###\")\n",
        "print(\"Classification Report:\\n\", classification_report(y_test_all, y_pred_all))\n",
        "print(\"Confusion Matrix:\\n\", confusion_matrix(y_test_all, y_pred_all))\n",
        "print(\"Mean Squared Error:\", mean_squared_error(y_test_all, y_pred_all))\n",
        "print(\"Accuracy:\", accuracy_score(y_test_all, y_pred_all))\n",
        "print(\"Runtime (in seconds):\", end_time_all - start_time_all)\n"
      ],
      "metadata": {
        "colab": {
          "base_uri": "https://localhost:8080/"
        },
        "id": "WVD7OR3Ap-Xs",
        "outputId": "5d29d189-547a-473f-82be-8f6039914912"
      },
      "execution_count": null,
      "outputs": [
        {
          "output_type": "stream",
          "name": "stdout",
          "text": [
            "### LDA with All Features ###\n",
            "Classification Report:\n",
            "               precision    recall  f1-score   support\n",
            "\n",
            "           0       0.77      0.72      0.75        47\n",
            "           1       0.61      0.86      0.71        80\n",
            "           2       0.56      0.33      0.41        76\n",
            "\n",
            "    accuracy                           0.63       203\n",
            "   macro avg       0.64      0.64      0.62       203\n",
            "weighted avg       0.63      0.63      0.61       203\n",
            "\n",
            "Confusion Matrix:\n",
            " [[34  3 10]\n",
            " [ 1 69 10]\n",
            " [ 9 42 25]]\n",
            "Mean Squared Error: 0.6502463054187192\n",
            "Accuracy: 0.6305418719211823\n",
            "Runtime (in seconds): 0.025264263153076172\n"
          ]
        }
      ]
    },
    {
      "cell_type": "code",
      "source": [
        "# Train-Test Split\n",
        "X_train_selected, X_test_selected, y_train_selected, y_test_selected = train_test_split(X_selected_scaled, y, test_size=0.2, random_state=42)\n",
        "\n",
        "# Initialize LDA\n",
        "lda_selected = LinearDiscriminantAnalysis()\n",
        "\n",
        "# Measure runtime for training and prediction\n",
        "start_time_selected = time.time()\n",
        "lda_selected.fit(X_train_selected, y_train_selected)\n",
        "y_pred_selected = lda_selected.predict(X_test_selected)\n",
        "end_time_selected = time.time()\n",
        "\n",
        "# Evaluation Metrics\n",
        "print(\"\\n### LDA with Selected Features ###\")\n",
        "print(\"Classification Report:\\n\", classification_report(y_test_selected, y_pred_selected))\n",
        "print(\"Confusion Matrix:\\n\", confusion_matrix(y_test_selected, y_pred_selected))\n",
        "print(\"Mean Squared Error:\", mean_squared_error(y_test_selected, y_pred_selected))\n",
        "print(\"Accuracy:\", accuracy_score(y_test_selected, y_pred_selected))\n",
        "print(\"Runtime (in seconds):\", end_time_selected - start_time_selected)\n"
      ],
      "metadata": {
        "colab": {
          "base_uri": "https://localhost:8080/"
        },
        "id": "XHxODP9ZqDYo",
        "outputId": "cd982a66-164a-468f-d242-913d792c033f"
      },
      "execution_count": null,
      "outputs": [
        {
          "output_type": "stream",
          "name": "stdout",
          "text": [
            "\n",
            "### LDA with Selected Features ###\n",
            "Classification Report:\n",
            "               precision    recall  f1-score   support\n",
            "\n",
            "           0       0.57      0.70      0.63        47\n",
            "           1       0.59      0.76      0.67        80\n",
            "           2       0.71      0.39      0.51        76\n",
            "\n",
            "    accuracy                           0.61       203\n",
            "   macro avg       0.63      0.62      0.60       203\n",
            "weighted avg       0.63      0.61      0.60       203\n",
            "\n",
            "Confusion Matrix:\n",
            " [[33 10  4]\n",
            " [11 61  8]\n",
            " [14 32 30]]\n",
            "Mean Squared Error: 0.6551724137931034\n",
            "Accuracy: 0.6108374384236454\n",
            "Runtime (in seconds): 0.006329059600830078\n"
          ]
        }
      ]
    },
    {
      "cell_type": "code",
      "source": [
        "# Print the comparison results\n",
        "print(\"\\n### Comparison of All Features vs Selected Features ###\")\n",
        "print(f\"Accuracy with All Features: {accuracy_score(y_test_all, y_pred_all):.4f}\")\n",
        "print(f\"Accuracy with Selected Features: {accuracy_score(y_test_selected, y_pred_selected):.4f}\")\n",
        "print(f\"Runtime with All Features: {end_time_all - start_time_all:.4f} seconds\")\n",
        "print(f\"Runtime with Selected Features: {end_time_selected - start_time_selected:.4f} seconds\")\n"
      ],
      "metadata": {
        "colab": {
          "base_uri": "https://localhost:8080/"
        },
        "id": "PgQomy-dqFnn",
        "outputId": "a538cb47-2a29-4412-8476-c9e4b7df83f2"
      },
      "execution_count": null,
      "outputs": [
        {
          "output_type": "stream",
          "name": "stdout",
          "text": [
            "\n",
            "### Comparison of All Features vs Selected Features ###\n",
            "Accuracy with All Features: 0.6305\n",
            "Accuracy with Selected Features: 0.6108\n",
            "Runtime with All Features: 0.0253 seconds\n",
            "Runtime with Selected Features: 0.0063 seconds\n"
          ]
        }
      ]
    },
    {
      "cell_type": "markdown",
      "source": [
        "**Stacking Classifier- DT+RF+Logistic Regression**"
      ],
      "metadata": {
        "id": "fcMT0MGWlhdl"
      }
    },
    {
      "cell_type": "code",
      "source": [
        "# Import required libraries\n",
        "import pandas as pd\n",
        "import numpy as np\n",
        "import time\n",
        "from sklearn.model_selection import train_test_split\n",
        "from sklearn.metrics import classification_report, confusion_matrix, mean_squared_error, accuracy_score\n",
        "from sklearn.ensemble import StackingClassifier\n",
        "from sklearn.tree import DecisionTreeClassifier\n",
        "from sklearn.ensemble import RandomForestClassifier\n",
        "from sklearn.linear_model import LogisticRegression\n",
        "from sklearn.preprocessing import MinMaxScaler\n"
      ],
      "metadata": {
        "id": "cBhAIrPaqXgK"
      },
      "execution_count": null,
      "outputs": []
    },
    {
      "cell_type": "code",
      "source": [
        "# Load dataset (replace with your file path)\n",
        "file_path = '/content/Maternal Health Risk Data Set.csv'  # Update path if necessary\n",
        "df = pd.read_csv(file_path)\n",
        "\n",
        "# Encode target variable if categorical\n",
        "y = pd.factorize(df[\"RiskLevel\"])[0]\n",
        "X = df.drop(\"RiskLevel\", axis=1)\n",
        "\n",
        "# Selected Features from Feature Selection Step\n",
        "selected_features = ['Age', 'SystolicBP', 'DiastolicBP', 'HeartRate']  # Replace with your selected features\n",
        "\n",
        "# Transform the data\n",
        "X_selected = X[selected_features]\n",
        "\n",
        "# Normalize data (Min-Max Scaling)\n",
        "scaler = MinMaxScaler()\n",
        "X_scaled = scaler.fit_transform(X)\n",
        "X_selected_scaled = scaler.fit_transform(X_selected)\n"
      ],
      "metadata": {
        "id": "BWV51FmbqbED"
      },
      "execution_count": null,
      "outputs": []
    },
    {
      "cell_type": "code",
      "source": [
        "# Define base models\n",
        "base_models = [\n",
        "    ('decision_tree', DecisionTreeClassifier(random_state=42)),\n",
        "    ('random_forest', RandomForestClassifier(random_state=42)),\n",
        "    ('logistic_regression', LogisticRegression(random_state=42, max_iter=1000))\n",
        "]\n",
        "\n",
        "# Define Stacking Classifier with Logistic Regression as final estimator\n",
        "stacking_clf = StackingClassifier(\n",
        "    estimators=base_models,\n",
        "    final_estimator=LogisticRegression(random_state=42, max_iter=1000)\n",
        ")\n"
      ],
      "metadata": {
        "id": "CTdCt8-UqeNY"
      },
      "execution_count": null,
      "outputs": []
    },
    {
      "cell_type": "code",
      "source": [
        "# Train-Test Split\n",
        "X_train_all, X_test_all, y_train_all, y_test_all = train_test_split(X_scaled, y, test_size=0.2, random_state=42)\n",
        "\n",
        "# Measure runtime for training and prediction\n",
        "start_time_all = time.time()\n",
        "stacking_clf.fit(X_train_all, y_train_all)\n",
        "y_pred_all = stacking_clf.predict(X_test_all)\n",
        "end_time_all = time.time()\n",
        "\n",
        "# Evaluation Metrics\n",
        "print(\"### Stacking Classifier with All Features ###\")\n",
        "print(\"Classification Report:\\n\", classification_report(y_test_all, y_pred_all))\n",
        "print(\"Confusion Matrix:\\n\", confusion_matrix(y_test_all, y_pred_all))\n",
        "print(\"Mean Squared Error:\", mean_squared_error(y_test_all, y_pred_all))\n",
        "print(\"Accuracy:\", accuracy_score(y_test_all, y_pred_all))\n",
        "print(\"Runtime (in seconds):\", end_time_all - start_time_all)\n"
      ],
      "metadata": {
        "colab": {
          "base_uri": "https://localhost:8080/"
        },
        "id": "FmziBkSYqhGf",
        "outputId": "ba037465-6b48-4f4b-ac20-5493a70e3233"
      },
      "execution_count": null,
      "outputs": [
        {
          "output_type": "stream",
          "name": "stdout",
          "text": [
            "### Stacking Classifier with All Features ###\n",
            "Classification Report:\n",
            "               precision    recall  f1-score   support\n",
            "\n",
            "           0       0.83      0.85      0.84        47\n",
            "           1       0.87      0.81      0.84        80\n",
            "           2       0.80      0.84      0.82        76\n",
            "\n",
            "    accuracy                           0.83       203\n",
            "   macro avg       0.83      0.84      0.83       203\n",
            "weighted avg       0.83      0.83      0.83       203\n",
            "\n",
            "Confusion Matrix:\n",
            " [[40  1  6]\n",
            " [ 5 65 10]\n",
            " [ 3  9 64]]\n",
            "Mean Squared Error: 0.30049261083743845\n",
            "Accuracy: 0.8325123152709359\n",
            "Runtime (in seconds): 5.068222284317017\n"
          ]
        }
      ]
    },
    {
      "cell_type": "code",
      "source": [
        "# Train-Test Split\n",
        "X_train_selected, X_test_selected, y_train_selected, y_test_selected = train_test_split(X_selected_scaled, y, test_size=0.2, random_state=42)\n",
        "\n",
        "# Measure runtime for training and prediction\n",
        "start_time_selected = time.time()\n",
        "stacking_clf.fit(X_train_selected, y_train_selected)\n",
        "y_pred_selected = stacking_clf.predict(X_test_selected)\n",
        "end_time_selected = time.time()\n",
        "\n",
        "# Evaluation Metrics\n",
        "print(\"\\n### Stacking Classifier with Selected Features ###\")\n",
        "print(\"Classification Report:\\n\", classification_report(y_test_selected, y_pred_selected))\n",
        "print(\"Confusion Matrix:\\n\", confusion_matrix(y_test_selected, y_pred_selected))\n",
        "print(\"Mean Squared Error:\", mean_squared_error(y_test_selected, y_pred_selected))\n",
        "print(\"Accuracy:\", accuracy_score(y_test_selected, y_pred_selected))\n",
        "print(\"Runtime (in seconds):\", end_time_selected - start_time_selected)\n"
      ],
      "metadata": {
        "colab": {
          "base_uri": "https://localhost:8080/"
        },
        "id": "uW8ArUsLqlay",
        "outputId": "d9383b8c-c1ef-4547-824c-caca363bae4c"
      },
      "execution_count": null,
      "outputs": [
        {
          "output_type": "stream",
          "name": "stdout",
          "text": [
            "\n",
            "### Stacking Classifier with Selected Features ###\n",
            "Classification Report:\n",
            "               precision    recall  f1-score   support\n",
            "\n",
            "           0       0.79      0.79      0.79        47\n",
            "           1       0.66      0.69      0.67        80\n",
            "           2       0.68      0.66      0.67        76\n",
            "\n",
            "    accuracy                           0.70       203\n",
            "   macro avg       0.71      0.71      0.71       203\n",
            "weighted avg       0.70      0.70      0.70       203\n",
            "\n",
            "Confusion Matrix:\n",
            " [[37  6  4]\n",
            " [ 6 55 19]\n",
            " [ 4 22 50]]\n",
            "Mean Squared Error: 0.4187192118226601\n",
            "Accuracy: 0.6995073891625616\n",
            "Runtime (in seconds): 1.8997719287872314\n"
          ]
        }
      ]
    },
    {
      "cell_type": "code",
      "source": [
        "# Print the comparison results\n",
        "print(\"\\n### Comparison of All Features vs Selected Features ###\")\n",
        "print(f\"Accuracy with All Features: {accuracy_score(y_test_all, y_pred_all):.4f}\")\n",
        "print(f\"Accuracy with Selected Features: {accuracy_score(y_test_selected, y_pred_selected):.4f}\")\n",
        "print(f\"Runtime with All Features: {end_time_all - start_time_all:.4f} seconds\")\n",
        "print(f\"Runtime with Selected Features: {end_time_selected - start_time_selected:.4f} seconds\")\n"
      ],
      "metadata": {
        "colab": {
          "base_uri": "https://localhost:8080/"
        },
        "id": "swTPLlbBqq56",
        "outputId": "24a7fa31-9594-46e2-f878-b117235e6ad2"
      },
      "execution_count": null,
      "outputs": [
        {
          "output_type": "stream",
          "name": "stdout",
          "text": [
            "\n",
            "### Comparison of All Features vs Selected Features ###\n",
            "Accuracy with All Features: 0.8325\n",
            "Accuracy with Selected Features: 0.6995\n",
            "Runtime with All Features: 5.0682 seconds\n",
            "Runtime with Selected Features: 1.8998 seconds\n"
          ]
        }
      ]
    },
    {
      "cell_type": "markdown",
      "source": [
        " Decision Tree, Random Forest, and Gradient Boosting"
      ],
      "metadata": {
        "id": "xxKT0cAirPho"
      }
    },
    {
      "cell_type": "code",
      "source": [
        "# Import required libraries\n",
        "import pandas as pd\n",
        "import numpy as np\n",
        "import time\n",
        "from sklearn.model_selection import train_test_split\n",
        "from sklearn.preprocessing import MinMaxScaler\n",
        "from sklearn.metrics import classification_report, confusion_matrix, mean_squared_error, accuracy_score\n",
        "from sklearn.ensemble import StackingClassifier\n",
        "from sklearn.tree import DecisionTreeClassifier\n",
        "from sklearn.ensemble import RandomForestClassifier, GradientBoostingClassifier\n",
        "from sklearn.linear_model import LogisticRegression\n",
        "\n",
        "# Load the dataset\n",
        "file_path = '/content/Maternal Health Risk Data Set.csv'  # Update file path if needed\n",
        "df = pd.read_csv(file_path)\n",
        "\n",
        "# Encode the target variable\n",
        "y = pd.factorize(df[\"RiskLevel\"])[0]\n",
        "X = df[['SystolicBP', 'DiastolicBP', 'HeartRate']]  # Select 3 features\n",
        "\n",
        "# Normalize the data\n",
        "scaler = MinMaxScaler()\n",
        "X_scaled = scaler.fit_transform(X)\n",
        "\n",
        "# Train-Test Split\n",
        "X_train, X_test, y_train, y_test = train_test_split(X_scaled, y, test_size=0.2, random_state=42)\n",
        "\n",
        "# Define base models for Stacking Classifier\n",
        "base_models = [\n",
        "    ('decision_tree', DecisionTreeClassifier(random_state=42, max_depth=5)),\n",
        "    ('random_forest', RandomForestClassifier(random_state=42, n_estimators=100)),\n",
        "    ('gradient_boosting', GradientBoostingClassifier(random_state=42, n_estimators=100, learning_rate=0.1))\n",
        "]\n",
        "\n",
        "# Define the Stacking Classifier\n",
        "stacking_clf = StackingClassifier(\n",
        "    estimators=base_models,\n",
        "    final_estimator=LogisticRegression(random_state=42, max_iter=1000)\n",
        ")\n",
        "\n",
        "# Train the Stacking Classifier\n",
        "start_time = time.time()\n",
        "stacking_clf.fit(X_train, y_train)\n",
        "end_time = time.time()\n",
        "\n",
        "# Predictions\n",
        "y_pred = stacking_clf.predict(X_test)\n",
        "\n",
        "# Evaluation Metrics\n",
        "print(\"### Ensemble Method with 3 Features ###\")\n",
        "print(\"Classification Report:\\n\", classification_report(y_test, y_pred))\n",
        "print(\"Confusion Matrix:\\n\", confusion_matrix(y_test, y_pred))\n",
        "print(\"Mean Squared Error:\", mean_squared_error(y_test, y_pred))\n",
        "print(\"Accuracy:\", accuracy_score(y_test, y_pred))\n",
        "print(\"Runtime (in seconds):\", end_time - start_time)\n"
      ],
      "metadata": {
        "colab": {
          "base_uri": "https://localhost:8080/"
        },
        "id": "kiTtRfQjrJhm",
        "outputId": "39c64242-e4a3-495c-9f5f-7586ab0b4605"
      },
      "execution_count": null,
      "outputs": [
        {
          "output_type": "stream",
          "name": "stdout",
          "text": [
            "### Ensemble Method with 3 Features ###\n",
            "Classification Report:\n",
            "               precision    recall  f1-score   support\n",
            "\n",
            "           0       0.67      0.66      0.67        47\n",
            "           1       0.63      0.72      0.67        80\n",
            "           2       0.62      0.53      0.57        76\n",
            "\n",
            "    accuracy                           0.64       203\n",
            "   macro avg       0.64      0.64      0.64       203\n",
            "weighted avg       0.63      0.64      0.63       203\n",
            "\n",
            "Confusion Matrix:\n",
            " [[31  5 11]\n",
            " [ 8 58 14]\n",
            " [ 7 29 40]]\n",
            "Mean Squared Error: 0.6305418719211823\n",
            "Accuracy: 0.6354679802955665\n",
            "Runtime (in seconds): 3.271819591522217\n"
          ]
        }
      ]
    },
    {
      "cell_type": "markdown",
      "source": [
        "##**2 method**\n"
      ],
      "metadata": {
        "id": "cKxKqmIVcb9V"
      }
    },
    {
      "cell_type": "markdown",
      "source": [
        "Feature Selection"
      ],
      "metadata": {
        "id": "O0WixD_MurAU"
      }
    },
    {
      "cell_type": "code",
      "source": [
        "# Import necessary libraries\n",
        "import pandas as pd\n",
        "from google.colab import drive\n",
        "\n",
        "\n",
        "\n",
        "# Load the dataset\n",
        "file_path = '/content/Maternal Health Risk Data Set.csv'  # Update the path as needed\n",
        "df = pd.read_csv(file_path)\n",
        "\n",
        "# Display the first few rows to understand the dataset\n",
        "print(\"Dataset Shape:\", df.shape)\n",
        "print(df.head())\n"
      ],
      "metadata": {
        "colab": {
          "base_uri": "https://localhost:8080/"
        },
        "id": "xadO8YVTuo_F",
        "outputId": "f507cd2b-f45b-4a86-d4a1-f357317eeb11"
      },
      "execution_count": null,
      "outputs": [
        {
          "output_type": "stream",
          "name": "stdout",
          "text": [
            "Dataset Shape: (1014, 7)\n",
            "   Age  SystolicBP  DiastolicBP    BS  BodyTemp  HeartRate  RiskLevel\n",
            "0   25         130           80  15.0      98.0         86  high risk\n",
            "1   35         140           90  13.0      98.0         70  high risk\n",
            "2   29          90           70   8.0     100.0         80  high risk\n",
            "3   30         140           85   7.0      98.0         70  high risk\n",
            "4   35         120           60   6.1      98.0         76   low risk\n"
          ]
        }
      ]
    },
    {
      "cell_type": "code",
      "source": [
        "from sklearn.preprocessing import LabelEncoder, MinMaxScaler\n",
        "\n",
        "# Encode the target variable (RiskLevel)\n",
        "df['RiskLevel'] = LabelEncoder().fit_transform(df['RiskLevel'])\n",
        "y = df['RiskLevel']  # Target variable\n",
        "X = df.drop(columns=['RiskLevel'])  # Features\n",
        "\n",
        "# Normalize the features for statistical tests\n",
        "scaler = MinMaxScaler()\n",
        "X_scaled = pd.DataFrame(scaler.fit_transform(X), columns=X.columns)\n"
      ],
      "metadata": {
        "id": "TMfBsbeYu5gw"
      },
      "execution_count": null,
      "outputs": []
    },
    {
      "cell_type": "code",
      "source": [
        "from sklearn.feature_selection import f_classif, mutual_info_classif\n",
        "\n",
        "# Initialize a dictionary to store selected features from each method\n",
        "selected_features = {}\n",
        "\n",
        "# ANOVA F-Test\n",
        "f_values, p_values = f_classif(X_scaled, y)\n",
        "anova_df = pd.DataFrame({'Feature': X.columns, 'F-Value': f_values, 'P-Value': p_values})\n",
        "selected_features['ANOVA_F_Test'] = anova_df[anova_df['P-Value'] < 0.05]['Feature'].tolist()\n",
        "print(\"ANOVA F-Test Selected Features:\", selected_features['ANOVA_F_Test'])\n",
        "\n",
        "# Mutual Information\n",
        "mutual_info = mutual_info_classif(X_scaled, y)\n",
        "mutual_info_df = pd.DataFrame({'Feature': X.columns, 'Mutual Information': mutual_info})\n",
        "selected_features['Mutual_Information'] = mutual_info_df[mutual_info_df['Mutual Information'] > 0.01]['Feature'].tolist()\n",
        "print(\"Mutual Information Selected Features:\", selected_features['Mutual_Information'])\n"
      ],
      "metadata": {
        "colab": {
          "base_uri": "https://localhost:8080/"
        },
        "id": "N-Yjqs_7u_Q7",
        "outputId": "444c3ba0-311b-46f5-9ede-0f1ed1883234"
      },
      "execution_count": null,
      "outputs": [
        {
          "output_type": "stream",
          "name": "stdout",
          "text": [
            "ANOVA F-Test Selected Features: ['Age', 'SystolicBP', 'DiastolicBP', 'BS', 'BodyTemp', 'HeartRate']\n",
            "Mutual Information Selected Features: ['Age', 'SystolicBP', 'DiastolicBP', 'BS', 'BodyTemp', 'HeartRate']\n"
          ]
        }
      ]
    },
    {
      "cell_type": "code",
      "source": [
        "from sklearn.linear_model import LogisticRegression\n",
        "from sklearn.feature_selection import RFE\n",
        "\n",
        "# Recursive Feature Elimination (RFE) with Logistic Regression\n",
        "logreg = LogisticRegression(max_iter=1000)\n",
        "rfe = RFE(logreg, n_features_to_select=3)\n",
        "rfe.fit(X_scaled, y)\n",
        "selected_features['RFE_Logistic'] = X.columns[rfe.support_].tolist()\n",
        "print(\"RFE Selected Features:\", selected_features['RFE_Logistic'])\n"
      ],
      "metadata": {
        "colab": {
          "base_uri": "https://localhost:8080/"
        },
        "id": "EMtSLG5dvDsj",
        "outputId": "7325474b-9aae-4f4a-ffec-d36928edc8dd"
      },
      "execution_count": null,
      "outputs": [
        {
          "output_type": "stream",
          "name": "stdout",
          "text": [
            "RFE Selected Features: ['SystolicBP', 'BS', 'BodyTemp']\n"
          ]
        }
      ]
    },
    {
      "cell_type": "code",
      "source": [
        "from sklearn.ensemble import RandomForestClassifier\n",
        "\n",
        "# Random Forest for Feature Importance\n",
        "rf = RandomForestClassifier(random_state=0)\n",
        "rf.fit(X_scaled, y)\n",
        "importances = rf.feature_importances_\n",
        "importance_df = pd.DataFrame({'Feature': X.columns, 'Importance': importances}).sort_values(by='Importance', ascending=False)\n",
        "selected_features['Random_Forest_Importance'] = importance_df.head(3)['Feature'].tolist()  # Top 3 features\n",
        "print(\"Random Forest Selected Features:\", selected_features['Random_Forest_Importance'])\n"
      ],
      "metadata": {
        "colab": {
          "base_uri": "https://localhost:8080/"
        },
        "id": "cK1sHQJIvJ0n",
        "outputId": "fc8259bc-9b8d-4bc8-9533-c99e6b1709d4"
      },
      "execution_count": null,
      "outputs": [
        {
          "output_type": "stream",
          "name": "stdout",
          "text": [
            "Random Forest Selected Features: ['BS', 'SystolicBP', 'Age']\n"
          ]
        }
      ]
    },
    {
      "cell_type": "code",
      "source": [
        "# Display all selected features from each method\n",
        "print(\"\\n### Selected Features by Method ###\")\n",
        "for method, features in selected_features.items():\n",
        "    print(f\"{method}: {features}\")\n"
      ],
      "metadata": {
        "colab": {
          "base_uri": "https://localhost:8080/"
        },
        "id": "POLZ5qlcvcGr",
        "outputId": "79f4efd7-fb6e-4ce8-fddd-8ad79f6fa219"
      },
      "execution_count": null,
      "outputs": [
        {
          "output_type": "stream",
          "name": "stdout",
          "text": [
            "\n",
            "### Selected Features by Method ###\n",
            "ANOVA_F_Test: ['Age', 'SystolicBP', 'DiastolicBP', 'BS', 'BodyTemp', 'HeartRate']\n",
            "Mutual_Information: ['Age', 'SystolicBP', 'DiastolicBP', 'BS', 'BodyTemp', 'HeartRate']\n",
            "RFE_Logistic: ['SystolicBP', 'BS', 'BodyTemp']\n",
            "Random_Forest_Importance: ['BS', 'SystolicBP', 'Age']\n"
          ]
        }
      ]
    },
    {
      "cell_type": "markdown",
      "source": [
        "Logistic Regression"
      ],
      "metadata": {
        "id": "oYJAB1UkdFIv"
      }
    },
    {
      "cell_type": "code",
      "source": [
        "# Example: Use features selected by Random Forest\n",
        "selected_features_rf = selected_features['Random_Forest_Importance']\n",
        "X_selected_rf = X[selected_features_rf]\n",
        "\n",
        "# Train-Test Split\n",
        "from sklearn.model_selection import train_test_split\n",
        "X_train, X_test, y_train, y_test = train_test_split(X_selected_rf, y, test_size=0.3, random_state=42)\n",
        "\n",
        "# Train a classifier (e.g., Logistic Regression)\n",
        "from sklearn.linear_model import LogisticRegression\n",
        "from sklearn.metrics import accuracy_score\n",
        "\n",
        "model = LogisticRegression(max_iter=1000)\n",
        "model.fit(X_train, y_train)\n",
        "y_pred = model.predict(X_test)\n",
        "print(\"Model Accuracy with Selected Features:\", accuracy_score(y_test, y_pred))\n"
      ],
      "metadata": {
        "colab": {
          "base_uri": "https://localhost:8080/"
        },
        "id": "QBaMW3_6vqZz",
        "outputId": "cdae26d3-382d-4699-ed32-dca9cb310608"
      },
      "execution_count": null,
      "outputs": [
        {
          "output_type": "stream",
          "name": "stdout",
          "text": [
            "Model Accuracy with Selected Features: 0.5377049180327869\n"
          ]
        }
      ]
    },
    {
      "cell_type": "code",
      "source": [
        "# Example: Use features selected by RFE (Logistic Regression)\n",
        "selected_features_rfe = selected_features['RFE_Logistic']\n",
        "X_selected_rfe = X[selected_features_rfe]\n",
        "\n",
        "# Train-Test Split\n",
        "from sklearn.model_selection import train_test_split\n",
        "X_train, X_test, y_train, y_test = train_test_split(X_selected_rfe, y, test_size=0.3, random_state=42)\n",
        "\n",
        "# Train a classifier (e.g., Logistic Regression)\n",
        "from sklearn.linear_model import LogisticRegression\n",
        "from sklearn.metrics import accuracy_score\n",
        "\n",
        "model = LogisticRegression(max_iter=1000)\n",
        "model.fit(X_train, y_train)\n",
        "y_pred = model.predict(X_test)\n",
        "print(\"Model Accuracy with RFE Selected Features:\", accuracy_score(y_test, y_pred))\n"
      ],
      "metadata": {
        "colab": {
          "base_uri": "https://localhost:8080/"
        },
        "id": "tNbyFIX-ypVS",
        "outputId": "a7d04745-8853-49f3-c7f5-dc0d0076bb79"
      },
      "execution_count": null,
      "outputs": [
        {
          "output_type": "stream",
          "name": "stdout",
          "text": [
            "Model Accuracy with RFE Selected Features: 0.5868852459016394\n"
          ]
        }
      ]
    },
    {
      "cell_type": "markdown",
      "source": [
        "Random Forest"
      ],
      "metadata": {
        "id": "_vMLFpwX0XdX"
      }
    },
    {
      "cell_type": "code",
      "source": [
        "# Import necessary libraries\n",
        "from sklearn.ensemble import RandomForestClassifier\n",
        "from sklearn.metrics import classification_report, confusion_matrix, mean_squared_error, accuracy_score\n",
        "import time\n",
        "\n",
        "# Use features selected by RFE (Logistic Regression)\n",
        "selected_features_rfe = selected_features['RFE_Logistic']\n",
        "X_selected_rfe = X[selected_features_rfe]\n",
        "\n",
        "# Train-Test Split\n",
        "from sklearn.model_selection import train_test_split\n",
        "X_train, X_test, y_train, y_test = train_test_split(X_selected_rfe, y, test_size=0.3, random_state=42)\n",
        "\n",
        "# Initialize the Random Forest model\n",
        "final_model = RandomForestClassifier(random_state=42)\n",
        "\n",
        "# Measure runtime and train the model\n",
        "start_time = time.time()\n",
        "final_model.fit(X_train, y_train)\n",
        "y_pred = final_model.predict(X_test)\n",
        "end_time = time.time()\n",
        "\n",
        "# Evaluation Metrics\n",
        "print(\"\\nClassification Report:\")\n",
        "print(classification_report(y_test, y_pred))\n",
        "\n",
        "print(\"\\nConfusion Matrix:\")\n",
        "print(confusion_matrix(y_test, y_pred))\n",
        "\n",
        "print(\"\\nMean Squared Error:\", mean_squared_error(y_test, y_pred))\n",
        "print(\"\\nAccuracy Score:\", accuracy_score(y_test, y_pred))\n",
        "\n",
        "# Runtime\n",
        "print(\"\\nRuntime (in seconds):\", end_time - start_time)\n"
      ],
      "metadata": {
        "colab": {
          "base_uri": "https://localhost:8080/"
        },
        "id": "OgDzUI3wy1b0",
        "outputId": "30a25d16-c0d6-4095-d0c7-c8e523cc4996"
      },
      "execution_count": null,
      "outputs": [
        {
          "output_type": "stream",
          "name": "stdout",
          "text": [
            "\n",
            "Classification Report:\n",
            "              precision    recall  f1-score   support\n",
            "\n",
            "           0       0.83      0.89      0.86        76\n",
            "           1       0.70      0.76      0.73       117\n",
            "           2       0.70      0.60      0.64       112\n",
            "\n",
            "    accuracy                           0.73       305\n",
            "   macro avg       0.74      0.75      0.74       305\n",
            "weighted avg       0.73      0.73      0.73       305\n",
            "\n",
            "\n",
            "Confusion Matrix:\n",
            "[[68  2  6]\n",
            " [ 5 89 23]\n",
            " [ 9 36 67]]\n",
            "\n",
            "Mean Squared Error: 0.4131147540983607\n",
            "\n",
            "Accuracy Score: 0.7344262295081967\n",
            "\n",
            "Runtime (in seconds): 0.1901254653930664\n"
          ]
        }
      ]
    },
    {
      "cell_type": "markdown",
      "source": [
        "KNN"
      ],
      "metadata": {
        "id": "HRfTnR_C0bwn"
      }
    },
    {
      "cell_type": "code",
      "source": [
        "# Import necessary libraries\n",
        "from sklearn.neighbors import KNeighborsClassifier\n",
        "from sklearn.metrics import classification_report, confusion_matrix, mean_squared_error, accuracy_score\n",
        "import time\n",
        "\n",
        "# Use features selected by RFE (Logistic Regression)\n",
        "selected_features_rfe = selected_features['RFE_Logistic']\n",
        "X_selected_rfe = X[selected_features_rfe]\n",
        "\n",
        "# Train-Test Split\n",
        "from sklearn.model_selection import train_test_split\n",
        "X_train, X_test, y_train, y_test = train_test_split(X_selected_rfe, y, test_size=0.3, random_state=42)\n",
        "\n",
        "# Initialize the KNN model (choose an appropriate k, e.g., k=5)\n",
        "k = 5\n",
        "knn_model = KNeighborsClassifier(n_neighbors=k)\n",
        "\n",
        "# Measure runtime and train the model\n",
        "start_time = time.time()\n",
        "knn_model.fit(X_train, y_train)\n",
        "y_pred = knn_model.predict(X_test)\n",
        "end_time = time.time()\n",
        "\n",
        "# Evaluation Metrics\n",
        "print(\"\\nClassification Report:\")\n",
        "print(classification_report(y_test, y_pred))\n",
        "\n",
        "print(\"\\nConfusion Matrix:\")\n",
        "print(confusion_matrix(y_test, y_pred))\n",
        "\n",
        "print(\"\\nMean Squared Error:\", mean_squared_error(y_test, y_pred))\n",
        "print(\"\\nAccuracy Score:\", accuracy_score(y_test, y_pred))\n",
        "\n",
        "# Runtime\n",
        "print(\"\\nRuntime (in seconds):\", end_time - start_time)\n"
      ],
      "metadata": {
        "colab": {
          "base_uri": "https://localhost:8080/"
        },
        "id": "HTlyHy9E0OsH",
        "outputId": "2d2f3a65-7627-4e70-b9d7-c9ce0030ba48"
      },
      "execution_count": null,
      "outputs": [
        {
          "output_type": "stream",
          "name": "stdout",
          "text": [
            "\n",
            "Classification Report:\n",
            "              precision    recall  f1-score   support\n",
            "\n",
            "           0       0.75      0.86      0.80        76\n",
            "           1       0.64      0.78      0.70       117\n",
            "           2       0.62      0.42      0.50       112\n",
            "\n",
            "    accuracy                           0.67       305\n",
            "   macro avg       0.67      0.68      0.67       305\n",
            "weighted avg       0.66      0.67      0.65       305\n",
            "\n",
            "\n",
            "Confusion Matrix:\n",
            "[[65  4  7]\n",
            " [ 4 91 22]\n",
            " [18 47 47]]\n",
            "\n",
            "Mean Squared Error: 0.580327868852459\n",
            "\n",
            "Accuracy Score: 0.6655737704918033\n",
            "\n",
            "Runtime (in seconds): 0.021788597106933594\n"
          ]
        }
      ]
    },
    {
      "cell_type": "markdown",
      "source": [
        "Gradient Boosting"
      ],
      "metadata": {
        "id": "zHBvuAvSdOd5"
      }
    },
    {
      "cell_type": "code",
      "source": [
        "# Import necessary libraries\n",
        "from sklearn.ensemble import GradientBoostingClassifier\n",
        "from sklearn.metrics import classification_report, confusion_matrix, mean_squared_error, accuracy_score\n",
        "import time\n",
        "\n",
        "# Use features selected by RFE (Logistic Regression)\n",
        "selected_features_rfe = selected_features['RFE_Logistic']\n",
        "X_selected_rfe = X[selected_features_rfe]\n",
        "\n",
        "# Train-Test Split\n",
        "from sklearn.model_selection import train_test_split\n",
        "X_train, X_test, y_train, y_test = train_test_split(X_selected_rfe, y, test_size=0.3, random_state=42)\n",
        "\n",
        "# Initialize the Gradient Boosting model\n",
        "gb_model = GradientBoostingClassifier(random_state=42)\n",
        "\n",
        "# Measure runtime and train the model\n",
        "start_time = time.time()\n",
        "gb_model.fit(X_train, y_train)\n",
        "y_pred = gb_model.predict(X_test)\n",
        "end_time = time.time()\n",
        "\n",
        "# Evaluation Metrics\n",
        "print(\"\\nClassification Report:\")\n",
        "print(classification_report(y_test, y_pred))\n",
        "\n",
        "print(\"\\nConfusion Matrix:\")\n",
        "print(confusion_matrix(y_test, y_pred))\n",
        "\n",
        "print(\"\\nMean Squared Error:\", mean_squared_error(y_test, y_pred))\n",
        "print(\"\\nAccuracy Score:\", accuracy_score(y_test, y_pred))\n",
        "\n",
        "# Runtime\n",
        "print(\"\\nRuntime (in seconds):\", end_time - start_time)\n"
      ],
      "metadata": {
        "colab": {
          "base_uri": "https://localhost:8080/"
        },
        "id": "vAvEzo_y1O38",
        "outputId": "d49e7f12-82a1-4faf-f380-ddd8bfd618be"
      },
      "execution_count": null,
      "outputs": [
        {
          "output_type": "stream",
          "name": "stdout",
          "text": [
            "\n",
            "Classification Report:\n",
            "              precision    recall  f1-score   support\n",
            "\n",
            "           0       0.85      0.87      0.86        76\n",
            "           1       0.69      0.74      0.71       117\n",
            "           2       0.64      0.57      0.60       112\n",
            "\n",
            "    accuracy                           0.71       305\n",
            "   macro avg       0.72      0.73      0.72       305\n",
            "weighted avg       0.71      0.71      0.71       305\n",
            "\n",
            "\n",
            "Confusion Matrix:\n",
            "[[66  2  8]\n",
            " [ 2 87 28]\n",
            " [10 38 64]]\n",
            "\n",
            "Mean Squared Error: 0.46557377049180326\n",
            "\n",
            "Accuracy Score: 0.7114754098360656\n",
            "\n",
            "Runtime (in seconds): 0.4102907180786133\n"
          ]
        }
      ]
    },
    {
      "cell_type": "markdown",
      "source": [
        "SVM\n"
      ],
      "metadata": {
        "id": "Efw9UqVsdcuQ"
      }
    },
    {
      "cell_type": "code",
      "source": [
        "# Import necessary libraries\n",
        "from sklearn.svm import SVC\n",
        "from sklearn.metrics import classification_report, confusion_matrix, mean_squared_error, accuracy_score\n",
        "import time\n",
        "\n",
        "# Use features selected by RFE (Logistic Regression)\n",
        "selected_features_rfe = selected_features['RFE_Logistic']\n",
        "X_selected_rfe = X[selected_features_rfe]\n",
        "\n",
        "# Train-Test Split\n",
        "from sklearn.model_selection import train_test_split\n",
        "X_train, X_test, y_train, y_test = train_test_split(X_selected_rfe, y, test_size=0.3, random_state=42)\n",
        "\n",
        "# Initialize the SVM model\n",
        "svm_model = SVC(kernel='linear', random_state=42)  # You can also try 'rbf', 'poly', etc. for different kernels\n",
        "\n",
        "# Measure runtime and train the model\n",
        "start_time = time.time()\n",
        "svm_model.fit(X_train, y_train)\n",
        "y_pred = svm_model.predict(X_test)\n",
        "end_time = time.time()\n",
        "\n",
        "# Evaluation Metrics\n",
        "print(\"\\nClassification Report:\")\n",
        "print(classification_report(y_test, y_pred))\n",
        "\n",
        "print(\"\\nConfusion Matrix:\")\n",
        "print(confusion_matrix(y_test, y_pred))\n",
        "\n",
        "print(\"\\nMean Squared Error:\", mean_squared_error(y_test, y_pred))\n",
        "print(\"\\nAccuracy Score:\", accuracy_score(y_test, y_pred))\n",
        "\n",
        "# Runtime\n",
        "print(\"\\nRuntime (in seconds):\", end_time - start_time)\n"
      ],
      "metadata": {
        "colab": {
          "base_uri": "https://localhost:8080/"
        },
        "id": "ujT4Sp8K14jF",
        "outputId": "95e0ee37-e069-452b-c6ed-5e8c1fb88cb7"
      },
      "execution_count": null,
      "outputs": [
        {
          "output_type": "stream",
          "name": "stdout",
          "text": [
            "\n",
            "Classification Report:\n",
            "              precision    recall  f1-score   support\n",
            "\n",
            "           0       0.80      0.80      0.80        76\n",
            "           1       0.58      0.92      0.71       117\n",
            "           2       0.55      0.21      0.30       112\n",
            "\n",
            "    accuracy                           0.63       305\n",
            "   macro avg       0.64      0.64      0.60       305\n",
            "weighted avg       0.62      0.63      0.58       305\n",
            "\n",
            "\n",
            "Confusion Matrix:\n",
            "[[ 61   3  12]\n",
            " [  2 108   7]\n",
            " [ 13  76  23]]\n",
            "\n",
            "Mean Squared Error: 0.6163934426229508\n",
            "\n",
            "Accuracy Score: 0.6295081967213115\n",
            "\n",
            "Runtime (in seconds): 0.21328043937683105\n"
          ]
        }
      ]
    },
    {
      "cell_type": "markdown",
      "source": [
        "XG Boost"
      ],
      "metadata": {
        "id": "qUZMGYGbdgqy"
      }
    },
    {
      "cell_type": "code",
      "source": [
        "!pip install xgboost\n"
      ],
      "metadata": {
        "colab": {
          "base_uri": "https://localhost:8080/"
        },
        "id": "vJZUayMi2CoP",
        "outputId": "75334f03-e748-4100-fba0-002bff1ae10e"
      },
      "execution_count": null,
      "outputs": [
        {
          "output_type": "stream",
          "name": "stdout",
          "text": [
            "Requirement already satisfied: xgboost in /usr/local/lib/python3.10/dist-packages (2.1.2)\n",
            "Requirement already satisfied: numpy in /usr/local/lib/python3.10/dist-packages (from xgboost) (1.26.4)\n",
            "Requirement already satisfied: nvidia-nccl-cu12 in /usr/local/lib/python3.10/dist-packages (from xgboost) (2.23.4)\n",
            "Requirement already satisfied: scipy in /usr/local/lib/python3.10/dist-packages (from xgboost) (1.13.1)\n"
          ]
        }
      ]
    },
    {
      "cell_type": "code",
      "source": [
        "# Import necessary libraries\n",
        "from xgboost import XGBClassifier\n",
        "from sklearn.metrics import classification_report, confusion_matrix, mean_squared_error, accuracy_score\n",
        "import time\n",
        "\n",
        "# Use features selected by RFE (Logistic Regression)\n",
        "selected_features_rfe = selected_features['RFE_Logistic']\n",
        "X_selected_rfe = X[selected_features_rfe]\n",
        "\n",
        "# Train-Test Split\n",
        "from sklearn.model_selection import train_test_split\n",
        "X_train, X_test, y_train, y_test = train_test_split(X_selected_rfe, y, test_size=0.3, random_state=42)\n",
        "\n",
        "# Initialize the XGBoost model\n",
        "xgb_model = XGBClassifier(use_label_encoder=False, eval_metric='logloss', random_state=42)\n",
        "\n",
        "# Measure runtime and train the model\n",
        "start_time = time.time()\n",
        "xgb_model.fit(X_train, y_train)\n",
        "y_pred = xgb_model.predict(X_test)\n",
        "end_time = time.time()\n",
        "\n",
        "# Evaluation Metrics\n",
        "print(\"\\nClassification Report:\")\n",
        "print(classification_report(y_test, y_pred))\n",
        "\n",
        "print(\"\\nConfusion Matrix:\")\n",
        "print(confusion_matrix(y_test, y_pred))\n",
        "\n",
        "print(\"\\nMean Squared Error:\", mean_squared_error(y_test, y_pred))\n",
        "print(\"\\nAccuracy Score:\", accuracy_score(y_test, y_pred))\n",
        "\n",
        "# Runtime\n",
        "print(\"\\nRuntime (in seconds):\", end_time - start_time)\n"
      ],
      "metadata": {
        "colab": {
          "base_uri": "https://localhost:8080/"
        },
        "id": "VvkNWr1_2HoG",
        "outputId": "e99f556c-12a1-46e1-e10b-b8e876944d49"
      },
      "execution_count": null,
      "outputs": [
        {
          "output_type": "stream",
          "name": "stdout",
          "text": [
            "\n",
            "Classification Report:\n",
            "              precision    recall  f1-score   support\n",
            "\n",
            "           0       0.85      0.89      0.87        76\n",
            "           1       0.70      0.77      0.73       117\n",
            "           2       0.69      0.59      0.63       112\n",
            "\n",
            "    accuracy                           0.73       305\n",
            "   macro avg       0.75      0.75      0.75       305\n",
            "weighted avg       0.73      0.73      0.73       305\n",
            "\n",
            "\n",
            "Confusion Matrix:\n",
            "[[68  2  6]\n",
            " [ 3 90 24]\n",
            " [ 9 37 66]]\n",
            "\n",
            "Mean Squared Error: 0.4131147540983607\n",
            "\n",
            "Accuracy Score: 0.7344262295081967\n",
            "\n",
            "Runtime (in seconds): 0.15740251541137695\n"
          ]
        },
        {
          "output_type": "stream",
          "name": "stderr",
          "text": [
            "/usr/local/lib/python3.10/dist-packages/xgboost/core.py:158: UserWarning: [07:38:57] WARNING: /workspace/src/learner.cc:740: \n",
            "Parameters: { \"use_label_encoder\" } are not used.\n",
            "\n",
            "  warnings.warn(smsg, UserWarning)\n"
          ]
        }
      ]
    },
    {
      "cell_type": "markdown",
      "source": [
        "Ada Boost"
      ],
      "metadata": {
        "id": "hzDNbzvTdmvq"
      }
    },
    {
      "cell_type": "code",
      "source": [
        "# Import necessary libraries\n",
        "from sklearn.ensemble import AdaBoostClassifier\n",
        "from sklearn.metrics import classification_report, confusion_matrix, mean_squared_error, accuracy_score\n",
        "import time\n",
        "\n",
        "# Use features selected by RFE (Logistic Regression)\n",
        "selected_features_rfe = selected_features['RFE_Logistic']\n",
        "X_selected_rfe = X[selected_features_rfe]\n",
        "\n",
        "# Train-Test Split\n",
        "from sklearn.model_selection import train_test_split\n",
        "X_train, X_test, y_train, y_test = train_test_split(X_selected_rfe, y, test_size=0.3, random_state=42)\n",
        "\n",
        "# Initialize the AdaBoost model\n",
        "ada_model = AdaBoostClassifier(random_state=42, n_estimators=50)  # Adjust n_estimators as needed\n",
        "\n",
        "# Measure runtime and train the model\n",
        "start_time = time.time()\n",
        "ada_model.fit(X_train, y_train)\n",
        "y_pred = ada_model.predict(X_test)\n",
        "end_time = time.time()\n",
        "\n",
        "# Evaluation Metrics\n",
        "print(\"\\nClassification Report:\")\n",
        "print(classification_report(y_test, y_pred))\n",
        "\n",
        "print(\"\\nConfusion Matrix:\")\n",
        "print(confusion_matrix(y_test, y_pred))\n",
        "\n",
        "print(\"\\nMean Squared Error:\", mean_squared_error(y_test, y_pred))\n",
        "print(\"\\nAccuracy Score:\", accuracy_score(y_test, y_pred))\n",
        "\n",
        "# Runtime\n",
        "print(\"\\nRuntime (in seconds):\", end_time - start_time)\n"
      ],
      "metadata": {
        "colab": {
          "base_uri": "https://localhost:8080/"
        },
        "id": "JFYTg2n52L7c",
        "outputId": "9c53c807-3775-429a-b3df-46c7cfaa042d"
      },
      "execution_count": null,
      "outputs": [
        {
          "output_type": "stream",
          "name": "stderr",
          "text": [
            "/usr/local/lib/python3.10/dist-packages/sklearn/ensemble/_weight_boosting.py:527: FutureWarning: The SAMME.R algorithm (the default) is deprecated and will be removed in 1.6. Use the SAMME algorithm to circumvent this warning.\n",
            "  warnings.warn(\n"
          ]
        },
        {
          "output_type": "stream",
          "name": "stdout",
          "text": [
            "\n",
            "Classification Report:\n",
            "              precision    recall  f1-score   support\n",
            "\n",
            "           0       0.78      0.67      0.72        76\n",
            "           1       0.68      0.75      0.71       117\n",
            "           2       0.57      0.56      0.57       112\n",
            "\n",
            "    accuracy                           0.66       305\n",
            "   macro avg       0.68      0.66      0.67       305\n",
            "weighted avg       0.67      0.66      0.66       305\n",
            "\n",
            "\n",
            "Confusion Matrix:\n",
            "[[51  4 21]\n",
            " [ 3 88 26]\n",
            " [11 38 63]]\n",
            "\n",
            "Mean Squared Error: 0.6524590163934426\n",
            "\n",
            "Accuracy Score: 0.6622950819672131\n",
            "\n",
            "Runtime (in seconds): 0.2492520809173584\n"
          ]
        }
      ]
    },
    {
      "cell_type": "markdown",
      "source": [
        "Naive Bayes"
      ],
      "metadata": {
        "id": "T-q7OPgJdraP"
      }
    },
    {
      "cell_type": "code",
      "source": [
        "# Import necessary libraries\n",
        "from sklearn.naive_bayes import GaussianNB\n",
        "from sklearn.metrics import classification_report, confusion_matrix, mean_squared_error, accuracy_score\n",
        "import time\n",
        "\n",
        "# Use features selected by RFE (Logistic Regression)\n",
        "selected_features_rfe = selected_features['RFE_Logistic']\n",
        "X_selected_rfe = X[selected_features_rfe]\n",
        "\n",
        "# Train-Test Split\n",
        "from sklearn.model_selection import train_test_split\n",
        "X_train, X_test, y_train, y_test = train_test_split(X_selected_rfe, y, test_size=0.3, random_state=42)\n",
        "\n",
        "# Initialize the Naive Bayes model\n",
        "nb_model = GaussianNB()\n",
        "\n",
        "# Measure runtime and train the model\n",
        "start_time = time.time()\n",
        "nb_model.fit(X_train, y_train)\n",
        "y_pred = nb_model.predict(X_test)\n",
        "end_time = time.time()\n",
        "\n",
        "# Evaluation Metrics\n",
        "print(\"\\nClassification Report:\")\n",
        "print(classification_report(y_test, y_pred))\n",
        "\n",
        "print(\"\\nConfusion Matrix:\")\n",
        "print(confusion_matrix(y_test, y_pred))\n",
        "\n",
        "print(\"\\nMean Squared Error:\", mean_squared_error(y_test, y_pred))\n",
        "print(\"\\nAccuracy Score:\", accuracy_score(y_test, y_pred))\n",
        "\n",
        "# Runtime\n",
        "print(\"\\nRuntime (in seconds):\", end_time - start_time)\n"
      ],
      "metadata": {
        "colab": {
          "base_uri": "https://localhost:8080/"
        },
        "id": "-OcLGnVv2fZc",
        "outputId": "660507ae-1b54-45a5-d425-245b5d63cc50"
      },
      "execution_count": null,
      "outputs": [
        {
          "output_type": "stream",
          "name": "stdout",
          "text": [
            "\n",
            "Classification Report:\n",
            "              precision    recall  f1-score   support\n",
            "\n",
            "           0       0.83      0.50      0.62        76\n",
            "           1       0.51      0.94      0.66       117\n",
            "           2       0.42      0.17      0.24       112\n",
            "\n",
            "    accuracy                           0.55       305\n",
            "   macro avg       0.59      0.54      0.51       305\n",
            "weighted avg       0.56      0.55      0.50       305\n",
            "\n",
            "\n",
            "Confusion Matrix:\n",
            "[[ 38  19  19]\n",
            " [  0 110   7]\n",
            " [  8  85  19]]\n",
            "\n",
            "Mean Squared Error: 0.7180327868852459\n",
            "\n",
            "Accuracy Score: 0.5475409836065573\n",
            "\n",
            "Runtime (in seconds): 0.023088932037353516\n"
          ]
        }
      ]
    },
    {
      "cell_type": "markdown",
      "source": [
        "Decision Tree"
      ],
      "metadata": {
        "id": "laK1AikJdvKu"
      }
    },
    {
      "cell_type": "code",
      "source": [
        "# Import necessary libraries\n",
        "from sklearn.tree import DecisionTreeClassifier\n",
        "from sklearn.metrics import classification_report, confusion_matrix, mean_squared_error, accuracy_score\n",
        "import time\n",
        "\n",
        "# Use features selected by RFE (Logistic Regression)\n",
        "selected_features_rfe = selected_features['RFE_Logistic']\n",
        "X_selected_rfe = X[selected_features_rfe]\n",
        "\n",
        "# Train-Test Split\n",
        "from sklearn.model_selection import train_test_split\n",
        "X_train, X_test, y_train, y_test = train_test_split(X_selected_rfe, y, test_size=0.3, random_state=42)\n",
        "\n",
        "# Initialize the Decision Tree model\n",
        "dt_model = DecisionTreeClassifier(random_state=42)\n",
        "\n",
        "# Measure runtime and train the model\n",
        "start_time = time.time()\n",
        "dt_model.fit(X_train, y_train)\n",
        "y_pred = dt_model.predict(X_test)\n",
        "end_time = time.time()\n",
        "\n",
        "# Evaluation Metrics\n",
        "print(\"\\nClassification Report:\")\n",
        "print(classification_report(y_test, y_pred))\n",
        "\n",
        "print(\"\\nConfusion Matrix:\")\n",
        "print(confusion_matrix(y_test, y_pred))\n",
        "\n",
        "print(\"\\nMean Squared Error:\", mean_squared_error(y_test, y_pred))\n",
        "print(\"\\nAccuracy Score:\", accuracy_score(y_test, y_pred))\n",
        "\n",
        "# Runtime\n",
        "print(\"\\nRuntime (in seconds):\", end_time - start_time)\n"
      ],
      "metadata": {
        "colab": {
          "base_uri": "https://localhost:8080/"
        },
        "id": "pNyKtBJR2orV",
        "outputId": "fa7615a9-1c25-4316-896c-79f902a18bd0"
      },
      "execution_count": null,
      "outputs": [
        {
          "output_type": "stream",
          "name": "stdout",
          "text": [
            "\n",
            "Classification Report:\n",
            "              precision    recall  f1-score   support\n",
            "\n",
            "           0       0.83      0.89      0.86        76\n",
            "           1       0.70      0.76      0.73       117\n",
            "           2       0.70      0.60      0.64       112\n",
            "\n",
            "    accuracy                           0.73       305\n",
            "   macro avg       0.74      0.75      0.74       305\n",
            "weighted avg       0.73      0.73      0.73       305\n",
            "\n",
            "\n",
            "Confusion Matrix:\n",
            "[[68  2  6]\n",
            " [ 5 89 23]\n",
            " [ 9 36 67]]\n",
            "\n",
            "Mean Squared Error: 0.4131147540983607\n",
            "\n",
            "Accuracy Score: 0.7344262295081967\n",
            "\n",
            "Runtime (in seconds): 0.012102842330932617\n"
          ]
        }
      ]
    },
    {
      "cell_type": "markdown",
      "source": [
        "Rotation Forest"
      ],
      "metadata": {
        "id": "LQGQ5BQteG2e"
      }
    },
    {
      "cell_type": "code",
      "source": [
        "# Import necessary libraries\n",
        "from sklearn.decomposition import PCA\n",
        "from sklearn.tree import DecisionTreeClassifier\n",
        "from sklearn.ensemble import VotingClassifier\n",
        "from sklearn.metrics import classification_report, confusion_matrix, mean_squared_error, accuracy_score\n",
        "import numpy as np\n",
        "import time\n",
        "\n",
        "# Use features selected by RFE (Logistic Regression)\n",
        "selected_features_rfe = selected_features['RFE_Logistic']\n",
        "X_selected_rfe = X[selected_features_rfe]\n",
        "\n",
        "# Train-Test Split\n",
        "from sklearn.model_selection import train_test_split\n",
        "X_train, X_test, y_train, y_test = train_test_split(X_selected_rfe, y, test_size=0.3, random_state=42)\n",
        "\n",
        "# Parameters\n",
        "n_estimators = 10  # Number of estimators in the rotational forest\n",
        "subset_size = X_train.shape[1] // 2  # Size of each subset for PCA rotation\n",
        "\n",
        "# List to hold individual models\n",
        "models = []\n",
        "\n",
        "# Creating rotated decision trees\n",
        "for i in range(n_estimators):\n",
        "    # Randomly select subset of features\n",
        "    random_subset = np.random.choice(X_train.columns, size=subset_size, replace=False)\n",
        "    pca = PCA(n_components=subset_size, random_state=i)\n",
        "\n",
        "    # Apply PCA on the selected feature subset\n",
        "    X_train_rotated = pca.fit_transform(X_train[random_subset])\n",
        "    X_test_rotated = pca.transform(X_test[random_subset])\n",
        "\n",
        "    # Initialize Decision Tree and add to list\n",
        "    model = DecisionTreeClassifier(random_state=i)\n",
        "    model.fit(X_train_rotated, y_train)\n",
        "    models.append(('dt' + str(i), model))\n",
        "\n",
        "# Create Voting Classifier with all rotated decision trees\n",
        "rotational_forest = VotingClassifier(estimators=models, voting='soft')\n",
        "\n",
        "# Measure runtime and train the ensemble model\n",
        "start_time = time.time()\n",
        "rotational_forest.fit(X_train, y_train)\n",
        "y_pred = rotational_forest.predict(X_test)\n",
        "end_time = time.time()\n",
        "\n",
        "# Evaluation Metrics\n",
        "print(\"\\nClassification Report:\")\n",
        "print(classification_report(y_test, y_pred))\n",
        "\n",
        "print(\"\\nConfusion Matrix:\")\n",
        "print(confusion_matrix(y_test, y_pred))\n",
        "\n",
        "print(\"\\nMean Squared Error:\", mean_squared_error(y_test, y_pred))\n",
        "print(\"\\nAccuracy Score:\", accuracy_score(y_test, y_pred))\n",
        "\n",
        "# Runtime\n",
        "print(\"\\nRuntime (in seconds):\", end_time - start_time)\n"
      ],
      "metadata": {
        "colab": {
          "base_uri": "https://localhost:8080/"
        },
        "id": "zBhx0foH3sjp",
        "outputId": "88f41296-22bd-4fba-8a71-4b351da38f6f"
      },
      "execution_count": null,
      "outputs": [
        {
          "output_type": "stream",
          "name": "stdout",
          "text": [
            "\n",
            "Classification Report:\n",
            "              precision    recall  f1-score   support\n",
            "\n",
            "           0       0.83      0.89      0.86        76\n",
            "           1       0.70      0.76      0.73       117\n",
            "           2       0.70      0.60      0.64       112\n",
            "\n",
            "    accuracy                           0.73       305\n",
            "   macro avg       0.74      0.75      0.74       305\n",
            "weighted avg       0.73      0.73      0.73       305\n",
            "\n",
            "\n",
            "Confusion Matrix:\n",
            "[[68  2  6]\n",
            " [ 5 89 23]\n",
            " [ 9 36 67]]\n",
            "\n",
            "Mean Squared Error: 0.4131147540983607\n",
            "\n",
            "Accuracy Score: 0.7344262295081967\n",
            "\n",
            "Runtime (in seconds): 0.10632038116455078\n"
          ]
        }
      ]
    },
    {
      "cell_type": "markdown",
      "source": [
        "Ensemble Method - Stacking Classifier - Decision Tree + Random Forest + Logistic **Regression**"
      ],
      "metadata": {
        "id": "PW7PZGNOsp9z"
      }
    },
    {
      "cell_type": "code",
      "source": [
        "# Import necessary libraries\n",
        "from sklearn.tree import DecisionTreeClassifier\n",
        "from sklearn.ensemble import RandomForestClassifier, StackingClassifier\n",
        "from sklearn.linear_model import LogisticRegression\n",
        "from sklearn.metrics import classification_report, confusion_matrix, mean_squared_error, accuracy_score\n",
        "import time\n",
        "\n",
        "# Use features selected by RFE (Logistic Regression)\n",
        "selected_features_rfe = selected_features['RFE_Logistic']\n",
        "X_selected_rfe = X[selected_features_rfe]\n",
        "\n",
        "# Train-Test Split\n",
        "from sklearn.model_selection import train_test_split\n",
        "X_train, X_test, y_train, y_test = train_test_split(X_selected_rfe, y, test_size=0.3, random_state=42)\n",
        "\n",
        "# Define base models\n",
        "base_models = [\n",
        "    ('decision_tree', DecisionTreeClassifier(random_state=42)),\n",
        "    ('random_forest', RandomForestClassifier(n_estimators=100, random_state=42)),\n",
        "    ('logistic_regression', LogisticRegression(max_iter=1000, random_state=42))\n",
        "]\n",
        "\n",
        "# Define stacking classifier with Logistic Regression as the meta-model\n",
        "stacking_clf = StackingClassifier(estimators=base_models, final_estimator=LogisticRegression())\n",
        "\n",
        "# Measure runtime and train the stacking model\n",
        "start_time = time.time()\n",
        "stacking_clf.fit(X_train, y_train)\n",
        "y_pred = stacking_clf.predict(X_test)\n",
        "end_time = time.time()\n",
        "\n",
        "# Evaluation Metrics\n",
        "print(\"\\nClassification Report:\")\n",
        "print(classification_report(y_test, y_pred))\n",
        "\n",
        "print(\"\\nConfusion Matrix:\")\n",
        "print(confusion_matrix(y_test, y_pred))\n",
        "\n",
        "print(\"\\nMean Squared Error:\", mean_squared_error(y_test, y_pred))\n",
        "print(\"\\nAccuracy Score:\", accuracy_score(y_test, y_pred))\n",
        "\n",
        "# Runtime\n",
        "print(\"\\nRuntime (in seconds):\", end_time - start_time)\n"
      ],
      "metadata": {
        "id": "Ne-brnTVeKdm",
        "colab": {
          "base_uri": "https://localhost:8080/"
        },
        "outputId": "69efd9f4-9a74-4a97-dcd6-2d127e683fb5"
      },
      "execution_count": null,
      "outputs": [
        {
          "output_type": "stream",
          "name": "stdout",
          "text": [
            "\n",
            "Classification Report:\n",
            "              precision    recall  f1-score   support\n",
            "\n",
            "           0       0.83      0.89      0.86        76\n",
            "           1       0.67      0.80      0.73       117\n",
            "           2       0.71      0.53      0.61       112\n",
            "\n",
            "    accuracy                           0.72       305\n",
            "   macro avg       0.74      0.74      0.73       305\n",
            "weighted avg       0.73      0.72      0.72       305\n",
            "\n",
            "\n",
            "Confusion Matrix:\n",
            "[[68  2  6]\n",
            " [ 5 94 18]\n",
            " [ 9 44 59]]\n",
            "\n",
            "Mean Squared Error: 0.42295081967213116\n",
            "\n",
            "Accuracy Score: 0.7245901639344262\n",
            "\n",
            "Runtime (in seconds): 3.5275156497955322\n"
          ]
        }
      ]
    },
    {
      "cell_type": "markdown",
      "source": [
        "XG Boost With L1 and L2 regularization"
      ],
      "metadata": {
        "id": "DpAF9yrhHPBG"
      }
    },
    {
      "cell_type": "code",
      "source": [
        "# Install XGBoost if it's not already installed\n",
        "!pip install xgboost\n",
        "\n",
        "# Import necessary libraries\n",
        "from xgboost import XGBClassifier\n",
        "from sklearn.metrics import classification_report, confusion_matrix, mean_squared_error, accuracy_score\n",
        "import time\n",
        "\n",
        "# Use features selected by RFE (Logistic Regression)\n",
        "selected_features_rfe = selected_features['RFE_Logistic']\n",
        "X_selected_rfe = X[selected_features_rfe]\n",
        "\n",
        "# Train-Test Split\n",
        "from sklearn.model_selection import train_test_split\n",
        "X_train, X_test, y_train, y_test = train_test_split(X_selected_rfe, y, test_size=0.3, random_state=42)\n",
        "\n",
        "# Initialize XGBoost model with L1 (alpha) and L2 (lambda) regularization\n",
        "xgb_model = XGBClassifier(\n",
        "    objective='binary:logistic',  # Use 'multi:softmax' for multiclass\n",
        "    eval_metric='logloss',        # Evaluation metric\n",
        "    alpha=0.1,                    # L1 regularization term\n",
        "    reg_lambda=1.0,               # L2 regularization term\n",
        "    n_estimators=100,             # Number of trees\n",
        "    max_depth=3,                  # Depth of each tree\n",
        "    learning_rate=0.1,            # Learning rate\n",
        "    random_state=42\n",
        ")\n",
        "\n",
        "# Measure runtime and train the model\n",
        "start_time = time.time()\n",
        "xgb_model.fit(X_train, y_train)\n",
        "y_pred = xgb_model.predict(X_test)\n",
        "end_time = time.time()\n",
        "\n",
        "# Evaluation Metrics\n",
        "print(\"\\nClassification Report:\")\n",
        "print(classification_report(y_test, y_pred))\n",
        "\n",
        "print(\"\\nConfusion Matrix:\")\n",
        "print(confusion_matrix(y_test, y_pred))\n",
        "\n",
        "print(\"\\nMean Squared Error:\", mean_squared_error(y_test, y_pred))\n",
        "print(\"\\nAccuracy Score:\", accuracy_score(y_test, y_pred))\n",
        "\n",
        "# Runtime\n",
        "print(\"\\nRuntime (in seconds):\", end_time - start_time)\n"
      ],
      "metadata": {
        "colab": {
          "base_uri": "https://localhost:8080/"
        },
        "id": "zmeYALqTELJB",
        "outputId": "808376cb-1817-419f-8743-6ab0f25aa49f"
      },
      "execution_count": null,
      "outputs": [
        {
          "output_type": "stream",
          "name": "stdout",
          "text": [
            "Requirement already satisfied: xgboost in /usr/local/lib/python3.10/dist-packages (2.1.2)\n",
            "Requirement already satisfied: numpy in /usr/local/lib/python3.10/dist-packages (from xgboost) (1.26.4)\n",
            "Requirement already satisfied: nvidia-nccl-cu12 in /usr/local/lib/python3.10/dist-packages (from xgboost) (2.23.4)\n",
            "Requirement already satisfied: scipy in /usr/local/lib/python3.10/dist-packages (from xgboost) (1.13.1)\n",
            "\n",
            "Classification Report:\n",
            "              precision    recall  f1-score   support\n",
            "\n",
            "           0       0.88      0.83      0.85        76\n",
            "           1       0.68      0.75      0.72       117\n",
            "           2       0.63      0.59      0.61       112\n",
            "\n",
            "    accuracy                           0.71       305\n",
            "   macro avg       0.73      0.72      0.73       305\n",
            "weighted avg       0.71      0.71      0.71       305\n",
            "\n",
            "\n",
            "Confusion Matrix:\n",
            "[[63  2 11]\n",
            " [ 2 88 27]\n",
            " [ 7 39 66]]\n",
            "\n",
            "Mean Squared Error: 0.46557377049180326\n",
            "\n",
            "Accuracy Score: 0.7114754098360656\n",
            "\n",
            "Runtime (in seconds): 0.06496095657348633\n"
          ]
        }
      ]
    },
    {
      "cell_type": "markdown",
      "source": [
        "LDA"
      ],
      "metadata": {
        "id": "wCz8Qp1tHLVE"
      }
    },
    {
      "cell_type": "code",
      "source": [
        "# Import necessary libraries\n",
        "from sklearn.discriminant_analysis import LinearDiscriminantAnalysis\n",
        "from sklearn.metrics import classification_report, confusion_matrix, mean_squared_error, accuracy_score\n",
        "import time\n",
        "\n",
        "# Use features selected by RFE (Logistic Regression)\n",
        "selected_features_rfe = selected_features['RFE_Logistic']\n",
        "X_selected_rfe = X[selected_features_rfe]\n",
        "\n",
        "# Train-Test Split\n",
        "from sklearn.model_selection import train_test_split\n",
        "X_train, X_test, y_train, y_test = train_test_split(X_selected_rfe, y, test_size=0.3, random_state=42)\n",
        "\n",
        "# Initialize the LDA model\n",
        "lda_model = LinearDiscriminantAnalysis()\n",
        "\n",
        "# Measure runtime and train the model\n",
        "start_time = time.time()\n",
        "lda_model.fit(X_train, y_train)\n",
        "y_pred = lda_model.predict(X_test)\n",
        "end_time = time.time()\n",
        "\n",
        "# Evaluation Metrics\n",
        "print(\"\\nClassification Report:\")\n",
        "print(classification_report(y_test, y_pred))\n",
        "\n",
        "print(\"\\nConfusion Matrix:\")\n",
        "print(confusion_matrix(y_test, y_pred))\n",
        "\n",
        "print(\"\\nMean Squared Error:\", mean_squared_error(y_test, y_pred))\n",
        "print(\"\\nAccuracy Score:\", accuracy_score(y_test, y_pred))\n",
        "\n",
        "# Runtime\n",
        "print(\"\\nRuntime (in seconds):\", end_time - start_time)\n"
      ],
      "metadata": {
        "colab": {
          "base_uri": "https://localhost:8080/"
        },
        "id": "bdXuGY1TEiyD",
        "outputId": "c73170d8-0d64-4054-dbdf-86902ed95624"
      },
      "execution_count": null,
      "outputs": [
        {
          "output_type": "stream",
          "name": "stdout",
          "text": [
            "\n",
            "Classification Report:\n",
            "              precision    recall  f1-score   support\n",
            "\n",
            "           0       0.77      0.63      0.70        76\n",
            "           1       0.59      0.91      0.72       117\n",
            "           2       0.48      0.26      0.34       112\n",
            "\n",
            "    accuracy                           0.60       305\n",
            "   macro avg       0.61      0.60      0.58       305\n",
            "weighted avg       0.59      0.60      0.57       305\n",
            "\n",
            "\n",
            "Confusion Matrix:\n",
            "[[ 48   4  24]\n",
            " [  2 107   8]\n",
            " [ 12  71  29]]\n",
            "\n",
            "Mean Squared Error: 0.7508196721311475\n",
            "\n",
            "Accuracy Score: 0.6032786885245902\n",
            "\n",
            "Runtime (in seconds): 0.03510642051696777\n"
          ]
        }
      ]
    },
    {
      "cell_type": "markdown",
      "source": [
        "Ensemble stacking Classifier-LR+Ridge Classifier+DT+RF"
      ],
      "metadata": {
        "id": "2OY5a_Eus3Cp"
      }
    },
    {
      "cell_type": "code",
      "source": [
        "# Import necessary libraries\n",
        "import pandas as pd\n",
        "from sklearn.ensemble import StackingClassifier\n",
        "from sklearn.linear_model import LogisticRegression, RidgeClassifier\n",
        "from sklearn.tree import DecisionTreeClassifier\n",
        "from sklearn.ensemble import RandomForestClassifier\n",
        "from sklearn.metrics import classification_report, confusion_matrix, mean_squared_error, accuracy_score\n",
        "from sklearn.model_selection import train_test_split\n",
        "import time\n",
        "\n",
        "# Load your dataset\n",
        "file_path = '/content/Maternal Health Risk Data Set.csv'  # Update this with your actual file path if using Colab\n",
        "df = pd.read_csv(file_path)\n",
        "\n",
        "# Display dataset information to check column names and content\n",
        "print(\"Dataset Shape:\", df.shape)\n",
        "print(df.head())\n",
        "print(\"Available columns:\", df.columns)\n",
        "\n",
        "# Encode the target variable (RiskLevel)\n",
        "df['RiskLevel'] = pd.factorize(df['RiskLevel'])[0]\n",
        "y = df['RiskLevel']  # Target variable\n",
        "X = df.drop(columns=['RiskLevel'])  # Features\n",
        "\n",
        "# Select the features based on your previous selection method\n",
        "# Replace 'feature1', 'feature2', 'feature3' with the actual names of your chosen features\n",
        "selected_features = ['SystolicBP', 'BS', 'BodyTemp']  # Example: ['Age', 'BMI', 'BloodPressure']\n",
        "X_selected = X[selected_features]  # Filter your dataset to only include these features\n",
        "\n",
        "# Train-test split\n",
        "X_train, X_test, y_train, y_test = train_test_split(X_selected, y, test_size=0.3, random_state=42)\n",
        "\n",
        "# Define base models for Stacking\n",
        "base_models = [\n",
        "    ('decision_tree', DecisionTreeClassifier(random_state=42)),\n",
        "    ('random_forest', RandomForestClassifier(random_state=42)),\n",
        "    ('logistic_regression', LogisticRegression(max_iter=1000))\n",
        "]\n",
        "\n",
        "# Define the Stacking Classifier\n",
        "stacking_clf = StackingClassifier(\n",
        "    estimators=base_models,\n",
        "    final_estimator=LogisticRegression(),  # Logistic Regression as the meta-learner\n",
        "    cv=5\n",
        ")\n",
        "\n",
        "# Train the model and measure runtime\n",
        "start_time = time.time()\n",
        "stacking_clf.fit(X_train, y_train)\n",
        "end_time = time.time()\n",
        "\n",
        "# Make predictions\n",
        "y_pred = stacking_clf.predict(X_test)\n",
        "\n",
        "# Evaluation Metrics\n",
        "print(\"\\nClassification Report:\")\n",
        "print(classification_report(y_test, y_pred))\n",
        "\n",
        "print(\"\\nConfusion Matrix:\")\n",
        "print(confusion_matrix(y_test, y_pred))\n",
        "\n",
        "print(\"\\nMean Squared Error:\", mean_squared_error(y_test, y_pred))\n",
        "print(\"\\nAccuracy Score:\", accuracy_score(y_test, y_pred))\n",
        "\n",
        "# Runtime\n",
        "print(\"\\nRuntime (in seconds):\", end_time - start_time)\n"
      ],
      "metadata": {
        "colab": {
          "base_uri": "https://localhost:8080/"
        },
        "id": "ScrClDdgFk6Z",
        "outputId": "b10131d9-f96e-4bbe-bff3-2b7bb43ee6c5"
      },
      "execution_count": null,
      "outputs": [
        {
          "output_type": "stream",
          "name": "stdout",
          "text": [
            "Dataset Shape: (1014, 7)\n",
            "   Age  SystolicBP  DiastolicBP    BS  BodyTemp  HeartRate  RiskLevel\n",
            "0   25         130           80  15.0      98.0         86  high risk\n",
            "1   35         140           90  13.0      98.0         70  high risk\n",
            "2   29          90           70   8.0     100.0         80  high risk\n",
            "3   30         140           85   7.0      98.0         70  high risk\n",
            "4   35         120           60   6.1      98.0         76   low risk\n",
            "Available columns: Index(['Age', 'SystolicBP', 'DiastolicBP', 'BS', 'BodyTemp', 'HeartRate',\n",
            "       'RiskLevel'],\n",
            "      dtype='object')\n",
            "\n",
            "Classification Report:\n",
            "              precision    recall  f1-score   support\n",
            "\n",
            "           0       0.83      0.89      0.86        76\n",
            "           1       0.67      0.80      0.73       117\n",
            "           2       0.71      0.53      0.61       112\n",
            "\n",
            "    accuracy                           0.72       305\n",
            "   macro avg       0.74      0.74      0.73       305\n",
            "weighted avg       0.73      0.72      0.72       305\n",
            "\n",
            "\n",
            "Confusion Matrix:\n",
            "[[68  2  6]\n",
            " [ 5 94 18]\n",
            " [ 9 44 59]]\n",
            "\n",
            "Mean Squared Error: 0.42295081967213116\n",
            "\n",
            "Accuracy Score: 0.7245901639344262\n",
            "\n",
            "Runtime (in seconds): 4.3557984828948975\n",
            "Dataset Shape: (1014, 7)\n",
            "   Age  SystolicBP  DiastolicBP    BS  BodyTemp  HeartRate  RiskLevel\n",
            "0   25         130           80  15.0      98.0         86  high risk\n",
            "1   35         140           90  13.0      98.0         70  high risk\n",
            "2   29          90           70   8.0     100.0         80  high risk\n",
            "3   30         140           85   7.0      98.0         70  high risk\n",
            "4   35         120           60   6.1      98.0         76   low risk\n",
            "Available columns: Index(['Age', 'SystolicBP', 'DiastolicBP', 'BS', 'BodyTemp', 'HeartRate',\n",
            "       'RiskLevel'],\n",
            "      dtype='object')\n",
            "\n",
            "Classification Report:\n",
            "              precision    recall  f1-score   support\n",
            "\n",
            "           0       0.83      0.89      0.86        76\n",
            "           1       0.67      0.80      0.73       117\n",
            "           2       0.71      0.53      0.61       112\n",
            "\n",
            "    accuracy                           0.72       305\n",
            "   macro avg       0.74      0.74      0.73       305\n",
            "weighted avg       0.73      0.72      0.72       305\n",
            "\n",
            "\n",
            "Confusion Matrix:\n",
            "[[68  2  6]\n",
            " [ 5 94 18]\n",
            " [ 9 44 59]]\n",
            "\n",
            "Mean Squared Error: 0.42295081967213116\n",
            "\n",
            "Accuracy Score: 0.7245901639344262\n",
            "\n",
            "Runtime (in seconds): 3.4248948097229004\n"
          ]
        }
      ]
    },
    {
      "cell_type": "code",
      "source": [
        "# Import necessary libraries\n",
        "import pandas as pd\n",
        "from sklearn.ensemble import RandomForestClassifier\n",
        "from xgboost import XGBClassifier\n",
        "from sklearn.linear_model import LogisticRegression\n",
        "from sklearn.model_selection import train_test_split\n",
        "from sklearn.preprocessing import StandardScaler\n",
        "from sklearn.metrics import accuracy_score\n",
        "import numpy as np\n",
        "\n",
        "# Load the dataset (upload your file in Colab and adjust the file path if needed)\n",
        "file_path = '/content/Maternal Health Risk Data Set.csv'\n",
        "data = pd.read_csv(file_path)\n",
        "\n",
        "# Preprocessing\n",
        "# Encode the target variable (RiskLevel)\n",
        "data['RiskLevel'] = data['RiskLevel'].map({'low risk': 0, 'mid risk': 1, 'high risk': 2})\n",
        "\n",
        "# Select features and target\n",
        "X = data[['SystolicBP', 'BS', 'BodyTemp']]\n",
        "y = data['RiskLevel']\n",
        "\n",
        "# Split the data\n",
        "X_train, X_test, y_train, y_test = train_test_split(X, y, test_size=0.2, random_state=42)\n",
        "\n",
        "# Scale the features\n",
        "scaler = StandardScaler()\n",
        "X_train_scaled = scaler.fit_transform(X_train)\n",
        "X_test_scaled = scaler.transform(X_test)\n",
        "\n",
        "# Base models\n",
        "rf_model = RandomForestClassifier(random_state=42, n_estimators=100)\n",
        "xgb_model = XGBClassifier(use_label_encoder=False, eval_metric='mlogloss', random_state=42)\n",
        "\n",
        "# Train base models\n",
        "rf_model.fit(X_train_scaled, y_train)\n",
        "xgb_model.fit(X_train_scaled, y_train)\n",
        "\n",
        "# Generate predictions for meta-model training\n",
        "rf_pred_train = rf_model.predict_proba(X_train_scaled)\n",
        "xgb_pred_train = xgb_model.predict_proba(X_train_scaled)\n",
        "\n",
        "# Stack predictions for meta-learner\n",
        "meta_train = np.hstack((rf_pred_train, xgb_pred_train))\n",
        "\n",
        "# Test set predictions for final evaluation\n",
        "rf_pred_test = rf_model.predict_proba(X_test_scaled)\n",
        "xgb_pred_test = xgb_model.predict_proba(X_test_scaled)\n",
        "meta_test = np.hstack((rf_pred_test, xgb_pred_test))\n",
        "\n",
        "# Meta-learner (Logistic Regression)\n",
        "meta_learner = LogisticRegression(max_iter=1000)\n",
        "meta_learner.fit(meta_train, y_train)\n",
        "\n",
        "# Final predictions\n",
        "final_pred = meta_learner.predict(meta_test)\n",
        "\n",
        "# Evaluate the model\n",
        "accuracy = accuracy_score(y_test, final_pred)\n",
        "print(\"Blended Model Accuracy:\", accuracy)\n"
      ],
      "metadata": {
        "colab": {
          "base_uri": "https://localhost:8080/"
        },
        "id": "4uJjxsVBRG0S",
        "outputId": "fb49999f-605e-4331-ba57-d4dc162ee6e3"
      },
      "execution_count": null,
      "outputs": [
        {
          "output_type": "stream",
          "name": "stderr",
          "text": [
            "/usr/local/lib/python3.10/dist-packages/xgboost/core.py:158: UserWarning: [08:37:46] WARNING: /workspace/src/learner.cc:740: \n",
            "Parameters: { \"use_label_encoder\" } are not used.\n",
            "\n",
            "  warnings.warn(smsg, UserWarning)\n"
          ]
        },
        {
          "output_type": "stream",
          "name": "stdout",
          "text": [
            "Blended Model Accuracy: 0.7389162561576355\n"
          ]
        }
      ]
    },
    {
      "cell_type": "markdown",
      "source": [
        " Voting Classifier with Weighted Voting-weighted combination of Random Forest, XGBoost, and Gradient Boosting"
      ],
      "metadata": {
        "id": "Hi6QrphPtm0q"
      }
    },
    {
      "cell_type": "code",
      "source": [
        "# Import necessary libraries\n",
        "import pandas as pd\n",
        "from sklearn.ensemble import RandomForestClassifier, GradientBoostingClassifier, VotingClassifier\n",
        "from xgboost import XGBClassifier\n",
        "from sklearn.model_selection import train_test_split, cross_val_score\n",
        "from sklearn.preprocessing import StandardScaler\n",
        "from sklearn.metrics import accuracy_score\n",
        "\n",
        "# Load the dataset (upload your file in Colab and adjust the file path if needed)\n",
        "file_path = '/content/Maternal Health Risk Data Set.csv'\n",
        "data = pd.read_csv(file_path)\n",
        "\n",
        "# Preprocessing\n",
        "# Encode the target variable (RiskLevel)\n",
        "data['RiskLevel'] = data['RiskLevel'].map({'low risk': 0, 'mid risk': 1, 'high risk': 2})\n",
        "\n",
        "# Select features and target\n",
        "X = data[['SystolicBP', 'BS', 'BodyTemp']]\n",
        "y = data['RiskLevel']\n",
        "\n",
        "# Split the data\n",
        "X_train, X_test, y_train, y_test = train_test_split(X, y, test_size=0.2, random_state=42)\n",
        "\n",
        "# Scale the features\n",
        "scaler = StandardScaler()\n",
        "X_train_scaled = scaler.fit_transform(X_train)\n",
        "X_test_scaled = scaler.transform(X_test)\n",
        "\n",
        "# Define models\n",
        "rf_model = RandomForestClassifier(random_state=42, n_estimators=100)\n",
        "xgb_model = XGBClassifier(use_label_encoder=False, eval_metric='mlogloss', random_state=42)\n",
        "gb_model = GradientBoostingClassifier(random_state=42, n_estimators=100)\n",
        "\n",
        "# Voting Classifier with weights\n",
        "voting_clf = VotingClassifier(\n",
        "    estimators=[\n",
        "        ('rf', rf_model),\n",
        "        ('xgb', xgb_model),\n",
        "        ('gb', gb_model)\n",
        "    ],\n",
        "    voting='soft',  # Use probabilities for weighted voting\n",
        "    weights=[2, 3, 1]  # Adjust weights based on model performance\n",
        ")\n",
        "\n",
        "# Train the Voting Classifier\n",
        "voting_clf.fit(X_train_scaled, y_train)\n",
        "\n",
        "# Make predictions\n",
        "y_pred = voting_clf.predict(X_test_scaled)\n",
        "\n",
        "# Evaluate the model\n",
        "accuracy = accuracy_score(y_test, y_pred)\n",
        "print(\"Weighted Voting Classifier Accuracy:\", accuracy)\n",
        "\n",
        "# Cross-validate to check performance consistency\n",
        "cv_scores = cross_val_score(voting_clf, X_train_scaled, y_train, cv=5, scoring='accuracy')\n",
        "print(\"Cross-validated Accuracy Scores:\", cv_scores)\n",
        "print(\" Accuracy:\", cv_scores.mean())\n"
      ],
      "metadata": {
        "colab": {
          "base_uri": "https://localhost:8080/"
        },
        "id": "h9xrDFdjWGHm",
        "outputId": "804110ac-9a4d-41f8-d353-daaea866bf1b"
      },
      "execution_count": null,
      "outputs": [
        {
          "output_type": "stream",
          "name": "stderr",
          "text": [
            "/usr/local/lib/python3.10/dist-packages/xgboost/core.py:158: UserWarning: [08:50:34] WARNING: /workspace/src/learner.cc:740: \n",
            "Parameters: { \"use_label_encoder\" } are not used.\n",
            "\n",
            "  warnings.warn(smsg, UserWarning)\n"
          ]
        },
        {
          "output_type": "stream",
          "name": "stdout",
          "text": [
            "Weighted Voting Classifier Accuracy: 0.729064039408867\n"
          ]
        },
        {
          "output_type": "stream",
          "name": "stderr",
          "text": [
            "/usr/local/lib/python3.10/dist-packages/xgboost/core.py:158: UserWarning: [08:50:35] WARNING: /workspace/src/learner.cc:740: \n",
            "Parameters: { \"use_label_encoder\" } are not used.\n",
            "\n",
            "  warnings.warn(smsg, UserWarning)\n",
            "/usr/local/lib/python3.10/dist-packages/xgboost/core.py:158: UserWarning: [08:50:37] WARNING: /workspace/src/learner.cc:740: \n",
            "Parameters: { \"use_label_encoder\" } are not used.\n",
            "\n",
            "  warnings.warn(smsg, UserWarning)\n",
            "/usr/local/lib/python3.10/dist-packages/xgboost/core.py:158: UserWarning: [08:50:38] WARNING: /workspace/src/learner.cc:740: \n",
            "Parameters: { \"use_label_encoder\" } are not used.\n",
            "\n",
            "  warnings.warn(smsg, UserWarning)\n",
            "/usr/local/lib/python3.10/dist-packages/xgboost/core.py:158: UserWarning: [08:50:39] WARNING: /workspace/src/learner.cc:740: \n",
            "Parameters: { \"use_label_encoder\" } are not used.\n",
            "\n",
            "  warnings.warn(smsg, UserWarning)\n",
            "/usr/local/lib/python3.10/dist-packages/xgboost/core.py:158: UserWarning: [08:50:39] WARNING: /workspace/src/learner.cc:740: \n",
            "Parameters: { \"use_label_encoder\" } are not used.\n",
            "\n",
            "  warnings.warn(smsg, UserWarning)\n"
          ]
        },
        {
          "output_type": "stream",
          "name": "stdout",
          "text": [
            "Cross-validated Accuracy Scores: [0.72392638 0.78395062 0.75308642 0.81481481 0.74691358]\n",
            " Accuracy: 0.7645383624933728\n"
          ]
        },
        {
          "output_type": "stream",
          "name": "stderr",
          "text": [
            "/usr/local/lib/python3.10/dist-packages/xgboost/core.py:158: UserWarning: [08:50:40] WARNING: /workspace/src/learner.cc:740: \n",
            "Parameters: { \"use_label_encoder\" } are not used.\n",
            "\n",
            "  warnings.warn(smsg, UserWarning)\n"
          ]
        },
        {
          "output_type": "stream",
          "name": "stdout",
          "text": [
            "Weighted Voting Classifier Accuracy: 0.729064039408867\n"
          ]
        },
        {
          "output_type": "stream",
          "name": "stderr",
          "text": [
            "/usr/local/lib/python3.10/dist-packages/xgboost/core.py:158: UserWarning: [08:50:41] WARNING: /workspace/src/learner.cc:740: \n",
            "Parameters: { \"use_label_encoder\" } are not used.\n",
            "\n",
            "  warnings.warn(smsg, UserWarning)\n",
            "/usr/local/lib/python3.10/dist-packages/xgboost/core.py:158: UserWarning: [08:50:41] WARNING: /workspace/src/learner.cc:740: \n",
            "Parameters: { \"use_label_encoder\" } are not used.\n",
            "\n",
            "  warnings.warn(smsg, UserWarning)\n",
            "/usr/local/lib/python3.10/dist-packages/xgboost/core.py:158: UserWarning: [08:50:42] WARNING: /workspace/src/learner.cc:740: \n",
            "Parameters: { \"use_label_encoder\" } are not used.\n",
            "\n",
            "  warnings.warn(smsg, UserWarning)\n",
            "/usr/local/lib/python3.10/dist-packages/xgboost/core.py:158: UserWarning: [08:50:43] WARNING: /workspace/src/learner.cc:740: \n",
            "Parameters: { \"use_label_encoder\" } are not used.\n",
            "\n",
            "  warnings.warn(smsg, UserWarning)\n",
            "/usr/local/lib/python3.10/dist-packages/xgboost/core.py:158: UserWarning: [08:50:43] WARNING: /workspace/src/learner.cc:740: \n",
            "Parameters: { \"use_label_encoder\" } are not used.\n",
            "\n",
            "  warnings.warn(smsg, UserWarning)\n"
          ]
        },
        {
          "output_type": "stream",
          "name": "stdout",
          "text": [
            "Cross-validated Accuracy Scores: [0.72392638 0.78395062 0.75308642 0.81481481 0.74691358]\n",
            " Accuracy: 0.7645383624933728\n"
          ]
        }
      ]
    }
  ]
}